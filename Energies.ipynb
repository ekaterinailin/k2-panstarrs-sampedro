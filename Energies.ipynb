{
 "cells": [
  {
   "cell_type": "markdown",
   "metadata": {
    "collapsed": true,
    "deletable": true,
    "editable": true
   },
   "source": [
    "# Energy calculation for flares in K2 lightcurves\n",
    "## To Do:\n",
    "- ~~retrieve colors~~\n",
    "- ~~retrieve distances for cluster~~\n",
    "- ~~from colors estimate spectral class~~\n",
    "- ~~from spectral class use spectrum from Sarah's SpecPhot and Yee 2017~~\n",
    "- ~~from spectral class use radius from Mamajek 2013~~\n",
    "- ~~use Kepler filter curve to calculate quiescent flux (maybe use np.polyval to fit a polynomial):~~\n",
    "- ~~L_∗ = πR^2 ∗int( dλ R_Kepler(λ)* B_SpecPhot(λ))~~\n",
    "- Finally: ED\\*L_=Kepler energy"
   ]
  },
  {
   "cell_type": "code",
   "execution_count": 82,
   "metadata": {
    "collapsed": false,
    "deletable": true,
    "editable": true
   },
   "outputs": [],
   "source": [
    "#if band value == -999.0 no magnitude is given\n",
    "#read in table for spectral class: read in as list [class,lum_class,u-g,g-r,r-i,i-z,z-J,J-H,H-k,Jmag_abs]\n",
    "#LATER: Add z-y from mamajek or so...\n",
    "import numpy as np\n",
    "def import_pickles98():\n",
    "    x=np.genfromtxt(\n",
    "        'share/cross_match/union/spectralclasses_padded.csv',\n",
    "        skip_header=49,delimiter=',',\n",
    "        dtype=[('spec_class','U4'),('lum_class','U4'),('u_g',np.float),\n",
    "               ('g_r',np.float),('r_i',np.float),('i_z',np.float),\n",
    "               ('z_J',np.float),('J_H',np.float),('H_K',np.float),('Jmag_abs',np.float)])\n",
    "    spec_class,lum_class,ug,gr,ri,iz,zJ,JH,HK,Jmag_abs = x['spec_class'],x['lum_class'],x['u_g'],x['g_r'],x['r_i'],x['i_z'],x['z_J'],x['J_H'],x['H_K'],x['Jmag_abs']\n",
    "\n",
    "\n",
    "    spec_class=[x.strip(' ') for x in spec_class]\n",
    "    lum_class=[x.strip(' ') for x in lum_class]\n",
    "    lum_class_I=[i for i,x in enumerate(lum_class) if x=='I']\n",
    "    lum_class_III=[i for i,x in enumerate(lum_class) if x=='III']\n",
    "    lum_class_V=[i for i,x in enumerate(lum_class) if x=='V']\n",
    "\n",
    "    spec_class_I=[x for i,x in enumerate(spec_class) if i in lum_class_I]\n",
    "    spec_class_III=[x for i,x in enumerate(spec_class) if i in lum_class_III]\n",
    "    spec_class_V=[x for i,x in enumerate(spec_class) if i in lum_class_V]\n",
    "    #print(spec_class)\n",
    "    return spec_class,lum_class,ug,gr,ri,iz,zJ,JH,HK,Jmag_abs,lum_class_I,lum_class_III,lum_class_V, spec_class_I, spec_class_III, spec_class_V\n",
    "\n"
   ]
  },
  {
   "cell_type": "code",
   "execution_count": 83,
   "metadata": {
    "collapsed": true,
    "deletable": true,
    "editable": true
   },
   "outputs": [],
   "source": [
    "def find_spec_class(lookup_spec,color, index,l='V'):\n",
    "    try:\n",
    "        spec_class=lookup_spec['class']\n",
    "        lum_class=lookup_spec[l]\n",
    "\n",
    "        color_list=lookup_spec[index]\n",
    "        i_lam=min(color_list, key=lambda x:abs(x-color))\n",
    "        idx=search(color_list,lum_class,color)\n",
    "        #print(idx)\n",
    "        if len(idx)!=0:\n",
    "            spec_classes=[spec_class[j] for j in idx]\n",
    "\n",
    "        else:\n",
    "            spec_classes='color too high or low to be assigned to spectral class in this luminosity class'\n",
    "        return idx,[spec_classes,l]\n",
    "    except KeyError:\n",
    "        idx=[]\n",
    "        return idx,'no entries for this color index'\n",
    "    \n",
    "def search(l,id_, val):\n",
    "    \n",
    "    results=[]\n",
    "    l=list(l)\n",
    "    id_=list(id_)\n",
    "    l=list(l)\n",
    "    l1=[(x,l[x]) for x in id_]\n",
    "\n",
    "    l2=l1[1:]+[(id_[-1]+1,-l1[-2][1]+2.*l1[-1][1])]\n",
    "    #print('{}\\n{}\\n{}'.format(l,l1,id_))\n",
    "    #print(l1,l2)\n",
    "    for i,j in zip(l1,l2):\n",
    "        if i[1]<val<j[1]:\n",
    "            if (val-i[1] > val-j[1]): \n",
    "                results.append(i[0])\n",
    "            else:\n",
    "                if (j==l2[-1][1]):\n",
    "                    results.append(i[0])\n",
    "                else:\n",
    "                    results.append(j[0])\n",
    "    #print(results)\n",
    "    #print('{}\\n{}'.format(results,id_))\n",
    "\n",
    "    return results\n",
    "            "
   ]
  },
  {
   "cell_type": "code",
   "execution_count": 134,
   "metadata": {
    "collapsed": false,
    "deletable": true,
    "editable": true
   },
   "outputs": [],
   "source": [
    "import random\n",
    "\n",
    "def dprint(str,debug):\n",
    "    if debug==True:\n",
    "        print(str)\n",
    "    return\n",
    "\n",
    "def display(opt,d,debug):\n",
    "    dprint('New combination: {}'.format(opt),debug)\n",
    "    dprint('This combination has distance {}'.format(d),debug)\n",
    "    return\n",
    "           \n",
    "def insert_spec_class(c,lookup_spec,c1,c2,index,l='V'):\n",
    "    if c1!=-999.0 and c2!=-999.0:\n",
    "        idx,all_spectral_classes=find_spec_class(lookup_spec,c1-c2,index,l)\n",
    "        c[index]=[c1-c2,all_spectral_classes]\n",
    "    else:\n",
    "        idx=[]\n",
    "    return idx\n",
    "\n",
    "def insert_lum_class(c,lookup_spec,J,index,l='V'):\n",
    "    if J!=-999.0:\n",
    "        J-=dm\n",
    "        idx, all_spectral_classes=find_spec_class(lookup_spec,J,'Jmag_abs',l)\n",
    "        c[index]=[J,all_spectral_classes]\n",
    "    else:\n",
    "        idx=[]\n",
    "    return idx\n",
    "\n",
    "def optimize_spec_class(obj_handle,colors,lookup_spec,c_idx='jhkJ',debug=False):\n",
    "    \n",
    "    #Depending on the catalog from the colors are constructed either JHK or grizy is available:\n",
    "    color_indices={'jhkJ':{'jh':colors[:2],'hk':colors[1:3],'J':colors[3]},'grizyJ':{'gr':colors[:2],'ri':colors[1:3],'iz':colors[2:4],'zy':colors[3:5]}}#,'J':colors[5]\n",
    "    #Different luminosity classes can occur\n",
    "    #luminosity_classes={'I':0.01,'III':0.,'V':-0.01}\n",
    "    #RESTRICT TO DWARFS\n",
    "    luminosity_classes={'V':-0.01}\n",
    "    #Now choose a set of colors: jhkJ or grizyJ\n",
    "    indices=color_indices[c_idx]\n",
    "    \n",
    "    #Initialize the procedure:\n",
    "    lum_opt=dict()\n",
    "    minspread=10000\n",
    "    best_lum_class='V'\n",
    "    best_spec_class='None'\n",
    "    opt_backup=dict()\n",
    "    \n",
    "    #Construct the optimum spec class solution for each luminosity class:\n",
    "    for lum_class, weight in luminosity_classes.items():\n",
    "        dprint('-------------',debug)\n",
    "        dprint(lum_class,debug)\n",
    "        \n",
    "        #initialize a list that contain the indices in order to compute the uncertainty on the estimate later\n",
    "        spr=[]\n",
    "        #initialize the color indices that are used in the end and their respective values\n",
    "        color_results={}\n",
    "        \n",
    "        #Iterate over all color indices (j,h,k or g,r,i,z,y) to compute possible colors (e.g.: j-h or r-i)\n",
    "        #This yields a list of possible spectral classes for each color since colors are not \n",
    "        #an unambiguous function of spectral class, i.e. several spectral classes can share the same color index\n",
    "        for key,value in indices.items():\n",
    "            \n",
    "            if key=='J':\n",
    "                #Same goes for luminosity only. Jmag_abs values correspond to spectral classes, too:\n",
    "                #idx returns the indices into the Pickles'98 table that correspond to spec classes:\n",
    "                #all of this for the given luminosity class\n",
    "                idx=insert_lum_class(obj_handle,lookup_spec,value,key,l=lum_class)\n",
    "            else:\n",
    "                #unpack the colors for each color index\n",
    "                c1,c2=value\n",
    "                #idx returns the indices into the Pickles'98 table that correspond to spec classes:\n",
    "                #all of this for the given luminosity class\n",
    "                idx=insert_spec_class(obj_handle,lookup_spec,c1,c2,key,l=lum_class)\n",
    " \n",
    "            #So, for a certain color index name (key) there is a list of indices (idx) that fit into the Pickles'98 table\n",
    "            color_results[key]=idx\n",
    "        \n",
    "        \n",
    "        dprint(color_results,debug)\n",
    "        \n",
    "        #Now given a dict with different colors and possible spec classes for each of them we have to find the best combination\n",
    "        #This is done by finding the combination which lies closest together within the table and hence has the least uncertainty\n",
    "        \n",
    "        #Initialize the a new possible optimum, that may later become the backup solution\n",
    "        opt=dict()\n",
    "        #Iterate over all colors and their possible classes to find the closest entries in the other color indices\n",
    "        for key, value in color_results.items():\n",
    "            #remove the regarded color index to avoid redundance\n",
    "            rest_results=dict(color_results)\n",
    "            del rest_results[key]\n",
    "            #Iterate over all possible classes (index) for the given central color (key)\n",
    "            for index in value:\n",
    "                #add the associated color for the central index\n",
    "                opt[key]=lookup_spec['class'][index]\n",
    "                #add central index to the list of indices that should be clostest to each other among all given indices across all colors\n",
    "                spr.append(index)\n",
    "                #Init distance list for linear distances\n",
    "                d=[]\n",
    "                #Iterate over all other colors and find the indices of possible spectral classes that are closest to the chosen cetral one\n",
    "                for key2, value2 in rest_results.items():\n",
    "                    #compute all the linear distances\n",
    "                    delta=[abs(x-index) for x in value2]\n",
    "                    if delta!=[]:\n",
    "                        #find the minimum linear distance\n",
    "                        dadd=min(delta)\n",
    "                        d.append(dadd)\n",
    "                        #find its corresponding index in Pickles'98 table\n",
    "                        minind=value2[delta.index(dadd)]\n",
    "                        #add the associated color\n",
    "                        opt[key2]=lookup_spec['class'][minind]\n",
    "                        #add to the list of indices that should be closest to each other\n",
    "                        spr.append(minind)\n",
    "                \n",
    "                #distance calculation\n",
    "                #The row number distance within a padded table is used as proxy to uncertainty\n",
    "                #distance d is defined as the sum of distances to one of the rows in n-colored space\n",
    "                d=np.sqrt(sum([x*x for x in d]))/len(color_results)\n",
    "                \n",
    "                #select this iteration if it yields a minimum in distance\n",
    "                try:\n",
    "                    if d<mindist:\n",
    "                        #output for debugging\n",
    "                        display(opt,d,debug)\n",
    "                        mindist=d\n",
    "                        opt_backup=dict(opt)\n",
    "                    else:\n",
    "                        #output for debugging\n",
    "                        display(opt,d,debug)\n",
    "                        dprint('Best solution has been found already, namely: {}'.format(opt_backup),debug)\n",
    "                        opt.clear()\n",
    "                #This error occurs if mindist has not yet been assigned\n",
    "                except UnboundLocalError:\n",
    "                    #output for debugging\n",
    "                    display(opt,d,debug)\n",
    "                    mindist=d\n",
    "                    opt_backup=dict(opt)\n",
    "        mindist=0\n",
    "        del mindist\n",
    "        #Assign a relative spread within the best solution weighted by the number of colors\n",
    "        rel_spread=np.std(np.array(spr))\n",
    "        #Calculate the mean index for the resulting spectral class\n",
    "        mean=np.mean(np.array(spr))\n",
    "        dprint('The standard deviation for the optimum solution in this luminosity class is {}'.format(rel_spread),debug)\n",
    "        #Minimize the spread across all luminosity classes\n",
    "        try:\n",
    "            if rel_spread+weight<minspread:\n",
    "                minspread=rel_spread\n",
    "                best_lum_class=lum_class\n",
    "                best_spec_class=lookup_spec['class'][int(np.rint(mean))]\n",
    "        #This error occurs if rel_spread has not yet been assigned\n",
    "        except UnboundLocalError:\n",
    "            minspread=rel_spread\n",
    "            best_lum_class=lum_class\n",
    "            best_spec_class=lookup_spec['class'][int(np.rint(mean))]\n",
    "        #Summarize the results for all luminosity classes in one dict:\n",
    "        lum_opt[lum_class]=[rel_spread,opt_backup]\n",
    "        \n",
    "    dprint('-------------------',debug)\n",
    "    dprint('Best results for spectral class and luminosity class: L={} and spec={}.'.format(best_lum_class,best_spec_class),debug)\n",
    "    dprint('',debug)\n",
    "    \n",
    "    \n",
    "    return best_lum_class,best_spec_class,lum_opt\n",
    "\n"
   ]
  },
  {
   "cell_type": "markdown",
   "metadata": {
    "deletable": true,
    "editable": true
   },
   "source": [
    "## Here I test the pipeline for a single LC in Ruprecht 147, ID=219652181:"
   ]
  },
  {
   "cell_type": "code",
   "execution_count": 120,
   "metadata": {
    "collapsed": false,
    "deletable": true,
    "editable": true
   },
   "outputs": [
    {
     "name": "stdout",
     "output_type": "stream",
     "text": [
      "{219599554: [88512891486023288, 'grizyJ', [20.322, 19.307, 18.213, 17.695, 17.438, 12.11]], 219609927: ['19161000-1618431', 'jhkJ', [9.339, 9.059, 8.983, 9.339]], 219519432: [88482891635099879, 'grizyJ', [21.396, 20.138, 19.487, 19.098, 18.852, 10.778]], 219716873: [88442892047034601, 'grizyJ', [-999.0, -999.0, 21.099, 20.335, 19.873, 11.739]], 219396051: [88442892247992582, 'grizyJ', [21.841, 21.197, 21.337, 20.752, -999.0, 11.215]], 219810798: [88482892217271612, 'grizyJ', [-999.0, 21.807, 21.291, 20.946, -999.0, 11.661]], 219444181: [88462891309457389, 'grizyJ', [-999.0, -999.0, 20.887, 20.295, 19.808, 11.365]], 219753819: [88492892038911906, 'grizyJ', [21.716, -999.0, -999.0, -999.0, -999.0, nan]], 219626912: [88442891581988799, 'grizyJ', [-999.0, -999.0, 21.521, -999.0, 19.456, 16.062]], 219712041: [88462892253237168, 'grizyJ', [21.226, 20.327, 20.0, 19.816, 19.637, 15.034]], 219648746: ['19165670-1612265', 'jhkJ', [8.588, 8.271, 8.218, 8.588]], 219630699: [88412891940733291, 'grizyJ', [-999.0, 21.479, 21.192, 20.812, -999.0, 12.092]], 219664556: ['19162169-1609510', 'jhkJ', [9.592, 9.31, 9.256, 9.592]], 219599730: ['19163339-1620215', 'jhkJ', [9.178, 8.953, 8.846, 9.178]], 219676654: [88452891908894021, 'grizyJ', [-999.0, 20.757, 19.631, 19.113, 18.788, 9.316]], 219561713: ['19164388-1626239', 'jhkJ', [8.437, 8.351, 8.297, 8.437]], 219576178: ['19161456-1624071', 'jhkJ', [8.002, 7.506, 7.384, 8.002]], 219560884: ['19163976-1626316', 'jhkJ', [9.105, 8.872, 8.78, 9.105]], 219605951: ['19164662-1619208', 'jhkJ', [9.338, 9.032, 8.973, 9.338]], 219622634: [88462891699366175, 'grizyJ', [13.945, -999.0, 13.928, -999.0, -999.0, 7.954]], 219655998: ['19160865-1611148', 'jhkJ', [8.626, 8.372, 8.297, 8.626]], 219652181: ['19164823-1611522', 'jhkJ', [9.11, 9.012, 8.936, 9.11]]}\n"
     ]
    }
   ],
   "source": [
    "import numpy as np\n",
    "cluster='Ruprecht_147'\n",
    "params=open('share/cross_match/union/'+cluster+'_parameter.txt')\n",
    "param_dict=dict()\n",
    "basics=params.readline()\n",
    "#print(basics)\n",
    "basics=[u for u in basics[1:-2].split(', ')]\n",
    "for line in params:\n",
    "    s=np.core.defchararray.split(line, sep=\",\").tolist()\n",
    "    col=s[3:]\n",
    "    col=[float(item) for item in col]\n",
    "    try:\n",
    "        param_dict[int(s[0])]=[int(s[1]),s[2],col]\n",
    "    except ValueError:\n",
    "        param_dict[int(s[0])]=[s[1],s[2],col]\n",
    "\n",
    "print(param_dict)"
   ]
  },
  {
   "cell_type": "code",
   "execution_count": 117,
   "metadata": {
    "collapsed": false,
    "deletable": true,
    "editable": true
   },
   "outputs": [],
   "source": [
    "spec_class,lum_class,ug,gr,ri,iz,zJ,JH,HK,Jmag_abs,lum_class_I,lum_class_III,lum_class_V, spec_class_I, spec_class_III, spec_class_V=import_pickles98()\n",
    "lookup_spec={'Jmag_abs':Jmag_abs,'V':lum_class_V,'III':lum_class_III,'I':lum_class_I,\n",
    "             'class':spec_class,'ug':ug,'gr':gr,'ri':ri,'iz':iz,'zJ':zJ,'jh':JH,'hk':HK}\n",
    "#calculate distance modulus for cluster\n",
    "DM = lambda x: 5.*np.log10(float(x))-5. \n",
    "dm=DM(basics[3])\n",
    "global dm\n",
    "\n"
   ]
  },
  {
   "cell_type": "code",
   "execution_count": 124,
   "metadata": {
    "collapsed": false,
    "deletable": true,
    "editable": true
   },
   "outputs": [
    {
     "name": "stdout",
     "output_type": "stream",
     "text": [
      "-------------\n",
      "V\n",
      "{'gr': [24], 'ri': [30], 'iz': [28], 'zy': []}\n",
      "New combination: {'gr': 'K4', 'ri': 'M2.5', 'iz': 'M1'}\n",
      "This combination has distance 1.8027756377319946\n",
      "New combination: {'gr': 'K4', 'ri': 'M2.5', 'iz': 'M1'}\n",
      "This combination has distance 1.5811388300841898\n",
      "New combination: {'gr': 'K4', 'ri': 'M2.5', 'iz': 'M1'}\n",
      "This combination has distance 1.118033988749895\n",
      "The standard deviation for the optimum solution in this luminosity class is 2.494438257849294\n",
      "-------------\n",
      "I\n",
      "{'gr': [96], 'ri': [104], 'iz': [103], 'zy': []}\n",
      "New combination: {'gr': 'G8', 'ri': 'M2', 'iz': 'K4'}\n",
      "This combination has distance 2.6575364531836625\n",
      "New combination: {'gr': 'G8', 'ri': 'M2', 'iz': 'K4'}\n",
      "This combination has distance 2.0155644370746373\n",
      "New combination: {'gr': 'G8', 'ri': 'M2', 'iz': 'K4'}\n",
      "This combination has distance 1.7677669529663689\n",
      "The standard deviation for the optimum solution in this luminosity class is 3.559026084010437\n",
      "-------------\n",
      "III\n",
      "{'gr': [54], 'ri': [62], 'iz': [60], 'zy': []}\n",
      "New combination: {'gr': 'K2', 'ri': 'M3', 'iz': 'M2'}\n",
      "This combination has distance 2.5\n",
      "New combination: {'gr': 'K2', 'ri': 'M3', 'iz': 'M2'}\n",
      "This combination has distance 2.0615528128088303\n",
      "New combination: {'gr': 'K2', 'ri': 'M3', 'iz': 'M2'}\n",
      "This combination has distance 1.5811388300841898\n",
      "The standard deviation for the optimum solution in this luminosity class is 3.39934634239519\n",
      "-------------------\n",
      "Best results for spectral class and luminosity class: L=V and spec=M0.\n",
      "\n"
     ]
    },
    {
     "data": {
      "text/plain": [
       "('V',\n",
       " 'M0',\n",
       " {'I': [3.5590260840104371, {'gr': 'G8', 'iz': 'K4', 'ri': 'M2'}],\n",
       "  'III': [3.39934634239519, {'gr': 'K2', 'iz': 'M2', 'ri': 'M3'}],\n",
       "  'V': [2.4944382578492941, {'gr': 'K4', 'iz': 'M1', 'ri': 'M2.5'}]})"
      ]
     },
     "execution_count": 124,
     "metadata": {},
     "output_type": "execute_result"
    }
   ],
   "source": [
    "def optimize_spec_class_ID(objectid,param_dict):\n",
    "    \n",
    "    try:\n",
    "        ID,c_idx,colors,results=param_dict[int(objectid)]\n",
    "    except ValueError:\n",
    "        value=param_dict[objectid]\n",
    "        ID,c_idx, colors=value\n",
    "        results=value.append(dict())\n",
    "\n",
    "    best_lum_class,best_spec_class,lum_opt=optimize_spec_class(results,colors,lookup_spec,c_idx=c_idx,debug=True)\n",
    "    return best_lum_class,best_spec_class,lum_opt\n",
    "\n",
    "optimize_spec_class_ID('219599554',param_dict)"
   ]
  },
  {
   "cell_type": "markdown",
   "metadata": {
    "deletable": true,
    "editable": true
   },
   "source": [
    "## If the test works, try to process the entire cluster with the function defined below"
   ]
  },
  {
   "cell_type": "code",
   "execution_count": 8,
   "metadata": {
    "collapsed": false,
    "deletable": true,
    "editable": true,
    "scrolled": false
   },
   "outputs": [
    {
     "name": "stdout",
     "output_type": "stream",
     "text": [
      "[(219599554, 'V', 'M0'), (219609927, 'I', 'G0'), (219519432, 'V', 'K7'), (219716873, 'V', 'M4'), (219396051, 'V', 'G8'), (219810798, 'V', 'K7'), (219444181, 'V', 'M2'), (219753819, 'V', 'None'), (219626912, 'V', 'None'), (219712041, 'V', 'K3'), (219648746, 'III', 'G5'), (219630699, 'V', 'K4'), (219664556, 'III', 'G5'), (219599730, 'III', 'G5'), (219676654, 'I', 'M2'), (219561713, 'III', 'G0'), (219576178, 'I', 'K3'), (219560884, 'III', 'G5'), (219605951, 'I', 'G0'), (219622634, 'V', 'None'), (219655998, 'III', 'G5'), (219652181, 'III', 'G0')]\n"
     ]
    },
    {
     "name": "stderr",
     "output_type": "stream",
     "text": [
      "/usr/local/lib/python3.5/dist-packages/numpy/core/_methods.py:135: RuntimeWarning: Degrees of freedom <= 0 for slice\n",
      "  keepdims=keepdims)\n",
      "/usr/local/lib/python3.5/dist-packages/numpy/core/_methods.py:105: RuntimeWarning: invalid value encountered in true_divide\n",
      "  arrmean, rcount, out=arrmean, casting='unsafe', subok=False)\n",
      "/usr/local/lib/python3.5/dist-packages/numpy/core/_methods.py:127: RuntimeWarning: invalid value encountered in double_scalars\n",
      "  ret = ret.dtype.type(ret / rcount)\n",
      "/usr/local/lib/python3.5/dist-packages/numpy/core/fromnumeric.py:2889: RuntimeWarning: Mean of empty slice.\n",
      "  out=out, **kwargs)\n",
      "/usr/local/lib/python3.5/dist-packages/numpy/core/_methods.py:80: RuntimeWarning: invalid value encountered in double_scalars\n",
      "  ret = ret.dtype.type(ret / rcount)\n"
     ]
    }
   ],
   "source": [
    "def optimize_spec_class_all(param_dict, lookup_spec, debug=False):\n",
    "    ID_lum_spec=[]\n",
    "    for key,value in param_dict.items():\n",
    "        #print(key)\n",
    "        try:\n",
    "            ID,c_idx,colors,results=value\n",
    "        except ValueError:\n",
    "            ID,c_idx, colors=value\n",
    "            value.append(dict())\n",
    "            results=value[3]\n",
    "\n",
    "        best_lum_class,best_spec_class,lum_opt=optimize_spec_class(results,colors,lookup_spec,c_idx=c_idx,debug=debug)\n",
    "        ID_lum_spec.append((key,best_lum_class,best_spec_class))\n",
    "    return ID_lum_spec\n",
    "\n",
    "ID_lum_spec=optimize_spec_class_all(param_dict,lookup_spec,debug=False)\n",
    "print(ID_lum_spec)"
   ]
  },
  {
   "cell_type": "markdown",
   "metadata": {
    "deletable": true,
    "editable": true
   },
   "source": [
    "## Plot the results!"
   ]
  },
  {
   "cell_type": "code",
   "execution_count": 75,
   "metadata": {
    "collapsed": false,
    "deletable": true,
    "editable": true
   },
   "outputs": [
    {
     "ename": "NameError",
     "evalue": "name 'import_pickles98' is not defined",
     "output_type": "error",
     "traceback": [
      "\u001b[0;31m---------------------------------------------------------------------------\u001b[0m",
      "\u001b[0;31mNameError\u001b[0m                                 Traceback (most recent call last)",
      "\u001b[0;32m<ipython-input-75-3cb55e160802>\u001b[0m in \u001b[0;36m<module>\u001b[0;34m()\u001b[0m\n\u001b[1;32m      4\u001b[0m \u001b[0;32mfrom\u001b[0m \u001b[0mbokeh\u001b[0m\u001b[0;34m.\u001b[0m\u001b[0mlayouts\u001b[0m \u001b[0;32mimport\u001b[0m \u001b[0mcolumn\u001b[0m\u001b[0;34m\u001b[0m\u001b[0m\n\u001b[1;32m      5\u001b[0m \u001b[0;34m\u001b[0m\u001b[0m\n\u001b[0;32m----> 6\u001b[0;31m \u001b[0mspec_class\u001b[0m\u001b[0;34m,\u001b[0m\u001b[0mlum_class\u001b[0m\u001b[0;34m,\u001b[0m\u001b[0mug\u001b[0m\u001b[0;34m,\u001b[0m\u001b[0mgr\u001b[0m\u001b[0;34m,\u001b[0m\u001b[0mri\u001b[0m\u001b[0;34m,\u001b[0m\u001b[0miz\u001b[0m\u001b[0;34m,\u001b[0m\u001b[0mzJ\u001b[0m\u001b[0;34m,\u001b[0m\u001b[0mJH\u001b[0m\u001b[0;34m,\u001b[0m\u001b[0mHK\u001b[0m\u001b[0;34m,\u001b[0m\u001b[0mJmag_abs\u001b[0m\u001b[0;34m,\u001b[0m\u001b[0mlum_class_I\u001b[0m\u001b[0;34m,\u001b[0m\u001b[0mlum_class_III\u001b[0m\u001b[0;34m,\u001b[0m\u001b[0mlum_class_V\u001b[0m\u001b[0;34m,\u001b[0m \u001b[0mspec_class_I\u001b[0m\u001b[0;34m,\u001b[0m \u001b[0mspec_class_III\u001b[0m\u001b[0;34m,\u001b[0m \u001b[0mspec_class_V\u001b[0m\u001b[0;34m=\u001b[0m\u001b[0mimport_pickles98\u001b[0m\u001b[0;34m(\u001b[0m\u001b[0;34m)\u001b[0m\u001b[0;34m\u001b[0m\u001b[0m\n\u001b[0m\u001b[1;32m      7\u001b[0m \u001b[0;34m\u001b[0m\u001b[0m\n\u001b[1;32m      8\u001b[0m \u001b[0;32mdef\u001b[0m \u001b[0mf7\u001b[0m\u001b[0;34m(\u001b[0m\u001b[0mseq\u001b[0m\u001b[0;34m)\u001b[0m\u001b[0;34m:\u001b[0m\u001b[0;34m\u001b[0m\u001b[0m\n",
      "\u001b[0;31mNameError\u001b[0m: name 'import_pickles98' is not defined"
     ]
    }
   ],
   "source": [
    "\n",
    "from bokeh.io import show, output_file\n",
    "from bokeh.plotting import figure\n",
    "from bokeh.layouts import column\n",
    "\n",
    "spec_class,lum_class,ug,gr,ri,iz,zJ,JH,HK,Jmag_abs,lum_class_I,lum_class_III,lum_class_V, spec_class_I, spec_class_III, spec_class_V=import_pickles98()\n",
    "\n",
    "def f7(seq):\n",
    "    seen = set()\n",
    "    seen_add = seen.add\n",
    "    return [x for x in seq if not (x in seen or seen_add(x))]\n",
    "\n",
    "lumspecs={'I':f7(spec_class_I),'III':f7(spec_class_III),'V':f7(spec_class_V)}\n",
    "for key, value in lumspecs.items(): value.append('None')\n",
    "print(spec_class_V)\n",
    "#ID, lum, spec=[[x[i] for x in ID_lum_spec] for i in range(3)] \n",
    "#print(ID_lum_spec)\n",
    "figs={}\n",
    "for key,value in lumspecs.items():\n",
    "    list_o_tuples=[]\n",
    "    for item in ID_lum_spec:\n",
    "        if item[1]==key:\n",
    "            list_o_tuples.append(item)\n",
    "    figs[key] = figure(x_range=value, plot_height=250, title=key,toolbar_location=None, tools=\"\")\n",
    "    top=list()\n",
    "    for i,spec_class in enumerate(value):\n",
    "        top.append(0)\n",
    "        for tuple_ in list_o_tuples:\n",
    "            if tuple_[2]==spec_class: top[i]+=1\n",
    "    #print(len(top),len(value))\n",
    "    figs[key].vbar(x=value, top=top, width=0.9)\n",
    "    figs[key].xgrid.grid_line_color = None\n",
    "#print(top,lumspecs['I'])\n",
    "\n",
    "\n",
    "output_file(\"bars.html\")\n",
    "\n",
    "fruits = ['Apples', 'Pears', 'Nectarines', 'Plums', 'Grapes', 'Strawberries']\n",
    "\n",
    "p = figure(x_range=fruits, plot_height=250, title=\"Fruit Counts\",\n",
    "           toolbar_location=None, tools=\"\")\n",
    "\n",
    "p.vbar(x=fruits, top=[5, 3, 4, 2, 4, 6], width=0.9)\n",
    "\n",
    "p.xgrid.grid_line_color = None\n",
    "p.y_range.start = 0\n",
    "\n",
    "#show(figs['V'])\n",
    "s1,s2,s3=figs['I'],figs['III'],figs['V']\n",
    "show(column(s1, s2, s3))"
   ]
  },
  {
   "cell_type": "markdown",
   "metadata": {
    "deletable": true,
    "editable": true
   },
   "source": [
    "## Calculate energies"
   ]
  },
  {
   "cell_type": "code",
   "execution_count": 13,
   "metadata": {
    "collapsed": false,
    "deletable": true,
    "editable": true
   },
   "outputs": [
    {
     "name": "stdout",
     "output_type": "stream",
     "text": [
      "/usr/local/bin:/usr/local/sbin:/usr/local/bin:/usr/sbin:/usr/bin:/sbin:/bin:/usr/games:/usr/local/games:/snap/bin\n",
      "python is /usr/bin/python\n"
     ]
    }
   ],
   "source": [
    "!echo $PATH\n",
    "#!git clone https://github.com/samuelyeewl/specmatch-emp.git\n",
    "#%cd specmatch-emp/\n",
    "#%cd /home/ekaterina/.local/share/jupyter/kernels/python3\n",
    "#!/home/ekaterina/.virtualenvs/master_thesis/bin/python setup.py install\n",
    "!type python\n",
    "\n",
    "#!/home/ekaterina/.virtualenvs/master_thesis/bin/python -m pip install h5py\n",
    "#!type pip3\n"
   ]
  },
  {
   "cell_type": "code",
   "execution_count": 147,
   "metadata": {
    "collapsed": false,
    "deletable": true,
    "editable": true
   },
   "outputs": [
    {
     "name": "stdout",
     "output_type": "stream",
     "text": [
      "Reading library from /home/ekaterina/.specmatchemp/library.h5\n"
     ]
    },
    {
     "data": {
      "text/plain": [
       "2.2244596022786706e+32"
      ]
     },
     "execution_count": 147,
     "metadata": {},
     "output_type": "execute_result"
    }
   ],
   "source": [
    "from scipy.constants import pi, h, c, k\n",
    "import matplotlib.pyplot as plt\n",
    "import numpy as np\n",
    "import pandas as pd\n",
    "import specmatchemp.library\n",
    "import specmatchemp.plots as smplot\n",
    "\n",
    "\n",
    "h*=1e7 # Planck constant in erg*s\n",
    "c*=1e2 # light speed in cm/s\n",
    "k*=1e7 # Boltzmann constant in erg/K\n",
    "\n",
    "#Solution to nan-bug:\n",
    "#https://stackoverflow.com/questions/6518811/interpolate-nan-values-in-a-numpy-array\n",
    "\n",
    "def nan_helper(y):\n",
    "    \"\"\"Helper to handle indices and logical indices of NaNs.\n",
    "\n",
    "    Input:\n",
    "        - y, 1d numpy array with possible NaNs\n",
    "    Output:\n",
    "        - nans, logical indices of NaNs\n",
    "        - index, a function, with signature indices= index(logical_indices),\n",
    "          to convert logical indices of NaNs to 'equivalent' indices\n",
    "    Example:\n",
    "        >>> # linear interpolation of NaNs\n",
    "        >>> nans, x= nan_helper(y)\n",
    "        >>> y[nans]= np.interp(x(nans), x(~nans), y[~nans])\n",
    "    \"\"\"\n",
    "\n",
    "    return np.isnan(y), lambda z: z.nonzero()[0]\n",
    "\n",
    "def interpolate_nan(y):\n",
    "    nans, x= nan_helper(y)\n",
    "    y[nans]= np.interp(x(nans), x(~nans), y[~nans])\n",
    "    return\n",
    "\n",
    "#End: Solution to nan_bug\n",
    "\n",
    "def spectrum(T,wavmin=3480., wavmax=9700.):\n",
    "    \n",
    "    '''\n",
    "    \n",
    "    Returns the spectrum of a star at effective temperature T in wavelength range [wavmin,wavmax]\n",
    "    Default range corresponds to Kepler response\n",
    "    \n",
    "    '''\n",
    "    #loads library of spectra within wavelength range\n",
    "    lib = specmatchemp.library.read_hdf(wavlim=[wavmin,wavmax])\n",
    "    #find the spectrum that fits T best\n",
    "    Tmin = str(T-50.)\n",
    "    Tmax = str(T+50.)\n",
    "    cut = lib.library_params.query(Tmin+'<Teff<'+Tmax)    \n",
    "    T_offer = zip(list(cut['Teff']), list(cut['lib_index']))\n",
    "    T_minindex = min(T_offer, key = lambda t: abs(t[0]-T))[1]\n",
    "    cut = cut.loc[T_minindex]\n",
    "    #return the spectrum\n",
    "    spec = lib.library_spectra[cut.lib_index,0,:]\n",
    "    return lib.wav, spec.T\n",
    "\n",
    "def kepler_spectrum(T):\n",
    "    '''\n",
    "    \n",
    "    Convolves a blackbody of effective temperature T, \n",
    "    the spectrum of a dwarf star with corresponding spectral class,\n",
    "    and the Kepler response function \n",
    "    to return the wavelength dependent flux of that star per area\n",
    "    \n",
    "    Input:\n",
    "    T - effective temperatur in K\n",
    "    \n",
    "    Returns:\n",
    "    Kp_flux in erg/cm*(cm**2)\n",
    "    Kp_midwav in \n",
    "    \n",
    "    \n",
    "    '''\n",
    "    Kp_wav, Kp_resp = np.loadtxt('spectra/Kepler_response.txt',unpack=True)\n",
    "    Kp_wav*=10. #convert to angström for spectrum function\n",
    "    #load the spectrum within a wavelength range that fits given T_eff best\n",
    "    Spec_wav,Spec_flux = spectrum(T,min(list(Kp_wav)),max(list(Kp_wav)))\n",
    "    #map Kepler response linearly into wavelengths given with the spectrum\n",
    "    Spec_flux = np.interp(Kp_wav,Spec_wav,Spec_flux)\n",
    "    Kp_flux = np.empty(len(Kp_wav)-1)\n",
    "    Kp_midwav  = np.empty(len(Kp_wav)-1)\n",
    "    #calculate the flux of a star with given T_eff \n",
    "    #accounting for Kepler filter \n",
    "    #and the corresp. spectrum of that stellar type \n",
    "    try:\n",
    "        for i, response in enumerate(Kp_resp):\n",
    "            dlambda = (Kp_wav[i+1]-Kp_wav[i])*1e-8 #infin. element of wavelength in cm\n",
    "            lambda_ = np.mean(Kp_wav[i:i+2])*1e-8 #wavelength in cm\n",
    "            Kp_midwav[i] = lambda_\n",
    "\n",
    "            Kp_flux[i] = Spec_flux[i] *response* 2. * h * c**2 / lambda_**5 / (np.exp(h * c / ( lambda_ * k * T ) ) - 1. ) \n",
    "            \n",
    "    except IndexError:\n",
    "        pass\n",
    "    \n",
    "    return Kp_midwav, Kp_flux\n",
    "\n",
    "def plot_kepler_spectrum(T):\n",
    "\n",
    "    wav,flux = kepler_spectrum(T)\n",
    "    plt.figure()\n",
    "    plt.plot(wav*1e8, flux,color='green')\n",
    "    plt.show()\n",
    "    \n",
    "    return\n",
    "\n",
    "\n",
    "    \n",
    "\n",
    "def kepler_luminosity(T):\n",
    "    \n",
    "    '''\n",
    "    Integrates the Kepler flux,\n",
    "    multiplies by the area A=pi*(R**2),\n",
    "    to obtain observed quiescent flux for an object\n",
    "    \n",
    "    Return:\n",
    "    \n",
    "    total Kepler luminosity in erg/s of a dwarf star with effective temperature T\n",
    "    \n",
    "    '''\n",
    "    \n",
    "    params=pd.read_csv('share/cross_match/union/spec_class_Teff_mamajek.txt')\n",
    "    \n",
    "    #calculate Kepler spectrum of a dwarf star with temperature T\n",
    "    wav,flux=kepler_spectrum(T)\n",
    "    \n",
    "    #interpolate where nans occur\n",
    "    interpolate_nan(wav)\n",
    "    interpolate_nan(flux)\n",
    " \n",
    "    #select the relevant columns from params\n",
    "    radii_teff=params[['Teff','R_Rsun']]\n",
    "    \n",
    "    #find the entry in radii_teff which lies closest in terms of tempererature to T\n",
    "    Tmin=min([abs(x-T) for x in radii_teff.Teff])+T\n",
    "    \n",
    "    #set index of data frame to be T_eff\n",
    "    radii_teff.set_index('Teff',inplace=True)\n",
    "\n",
    "    #select the radius of the given star with T_eff\n",
    "    try:\n",
    "        radius_cm=radii_teff.R_Rsun[Tmin]*6.96342e10 #stellar radius in cm\n",
    "    except KeyError:\n",
    "        radius_cm=radii_teff.R_Rsun[2.*T-Tmin]*6.96342e10 #stellar radius in cm\n",
    "\n",
    "    return np.trapz(flux, wav)*pi*(radius_cm**2)\n",
    "\n",
    "kepler_luminosity(6340.)"
   ]
  },
  {
   "cell_type": "code",
   "execution_count": 112,
   "metadata": {
    "collapsed": false
   },
   "outputs": [
    {
     "data": {
      "text/plain": [
       "4620"
      ]
     },
     "execution_count": 112,
     "metadata": {},
     "output_type": "execute_result"
    }
   ],
   "source": [
    "def spec_class_to_Teff(s):\n",
    "    params=pd.read_csv('share/cross_match/union/spec_class_Teff_mamajek.txt')\n",
    "    #set index of data frame to be T_eff\n",
    "    params.set_index('Teff',inplace=True)\n",
    "    #find and return the T_eff that correspods to the given spectral class:\n",
    "    return params[params.dwarf==s].index.values[0]\n",
    "\n",
    "spec_class_to_Teff('K4')"
   ]
  },
  {
   "cell_type": "markdown",
   "metadata": {
    "deletable": true,
    "editable": true
   },
   "source": [
    "# Appendix\n",
    "### This is a deprecated analysis version. Left here for later reference."
   ]
  },
  {
   "cell_type": "code",
   "execution_count": 113,
   "metadata": {
    "collapsed": false,
    "deletable": true,
    "editable": true
   },
   "outputs": [],
   "source": [
    "for key,value in param_dict.items():\n",
    "    \n",
    "    if len(value)==4:\n",
    "        c=value[3]\n",
    "    else:\n",
    "        value.append(dict())\n",
    "        c=value[3]\n",
    "    if value[1]=='jhkJ':\n",
    "        j,h,k,J=value[2]\n",
    "        insert_spec_class(c,lookup_spec,j,h,'jh')\n",
    "        insert_spec_class(c,lookup_spec,h,k,'hk')\n",
    "        insert_lum_class(c,lookup_spec,J,'J')\n",
    "        \n",
    "    elif value[1]=='grizyJ':\n",
    "        g,r,i,z,y,J=value[2]\n",
    "        insert_spec_class(c,lookup_spec,g,r,'gr')\n",
    "        insert_spec_class(c,lookup_spec,r,i,'ri')\n",
    "        insert_spec_class(c,lookup_spec,i,z,'iz')\n",
    "        insert_spec_class(c,lookup_spec,z,y,'zy')\n",
    "        insert_lum_class(c,lookup_spec,J,'J')\n",
    "\n",
    "    #print(key,c)\n",
    "#check with spectral class table. find value in ordered list\n",
    "#check distance with luminosity class using absolute Jmag_abs and J from param_dict\n",
    "#add color_index, spec_class to obj#bokeh barplot spectral classes"
   ]
  },
  {
   "cell_type": "markdown",
   "metadata": {
    "deletable": true,
    "editable": true
   },
   "source": [
    "# Plotting the flare frequency as a function of ED for by-hand analysis"
   ]
  },
  {
   "cell_type": "code",
   "execution_count": 180,
   "metadata": {
    "collapsed": true,
    "deletable": true,
    "editable": true
   },
   "outputs": [],
   "source": [
    "import numpy as np\n",
    "from scipy.integrate import trapz\n",
    "import matplotlib.pyplot as plt\n",
    "cluster='Ruprecht_147'"
   ]
  },
  {
   "cell_type": "code",
   "execution_count": 185,
   "metadata": {
    "collapsed": false,
    "deletable": true,
    "editable": true
   },
   "outputs": [
    {
     "name": "stdout",
     "output_type": "stream",
     "text": [
      "-------------\n",
      "V\n",
      "{'gr': [25], 'ri': [27], 'iz': [27], 'zy': []}\n",
      "New combination: {'gr': 'K5', 'ri': 'M0', 'iz': 'M0'}\n",
      "This combination has distance 0.7071067811865476\n",
      "New combination: {'gr': 'K5', 'ri': 'M0', 'iz': 'M0'}\n",
      "This combination has distance 0.5\n",
      "New combination: {'gr': 'K5', 'ri': 'M0', 'iz': 'M0'}\n",
      "This combination has distance 0.5\n",
      "Best solution has been found already, namely: {'gr': 'K5', 'iz': 'M0', 'ri': 'M0'}\n",
      "The standard deviation for the optimum solution in this luminosity class is 0.9428090415820634\n",
      "-------------------\n",
      "Best results for spectral class and luminosity class: L=V and spec=K7.\n",
      "\n",
      "4070.0\n",
      "Reading library from /home/ekaterina/.specmatchemp/library.h5\n",
      "The quiescent Kepler luminosity for this spectral class is 5.446067550045679e+30.\n"
     ]
    }
   ],
   "source": [
    "\n",
    "objectid='219519432'\n",
    "t_start,t_stop,id_start,id_stop,comment=np.loadtxt('share/cross_match/union/'+cluster+'_post_appa/'+objectid+'_my_flares.txt',delimiter=',',unpack=True,dtype=[('t_start', np.float), ('t_stop', np.float), ('id_start', np.int), ('id_stop', np.int), ('comment', 'S32')])\n",
    "time,flux_gap,error,flux_model=np.loadtxt('share/cross_match/union/'+cluster+'_post_appa/'+objectid+'.txt',delimiter=',',unpack=True)\n",
    "istart, istop=np.loadtxt('share/cross_match/union/'+cluster+'_post_appa/'+objectid+'_flares.txt',delimiter=',',unpack=True,dtype=np.dtype(np.int16))\n",
    "\n",
    "best_lum_class,best_spec_class,lum_opt = optimize_spec_class_ID(objectid,param_dict)\n",
    "T=float(spec_class_to_Teff(best_spec_class))\n",
    "print(T)\n",
    "L_quiet=kepler_luminosity(T)\n",
    "print('The quiescent Kepler luminosity for this spectral class is {}.'.format(L_quiet))"
   ]
  },
  {
   "cell_type": "code",
   "execution_count": 186,
   "metadata": {
    "collapsed": false,
    "deletable": true,
    "editable": true
   },
   "outputs": [],
   "source": [
    "def ED(start,stop,time,flux_model,flux_gap):\n",
    "    time=time[start:stop+1]\n",
    "    model=flux_model[start:stop+1]\n",
    "    flux=flux_gap[start:stop+1]\n",
    "    residual=np.subtract(flux,model)\n",
    "    flare=trapz(residual,time)\n",
    "    quiet=trapz(model,time)\n",
    "    ed=flare/quiet\n",
    "    return ed\n"
   ]
  },
  {
   "cell_type": "code",
   "execution_count": 187,
   "metadata": {
    "collapsed": false,
    "deletable": true,
    "editable": true
   },
   "outputs": [
    {
     "name": "stdout",
     "output_type": "stream",
     "text": [
      "[ 3 13  1  2  0]\n",
      "[19 21 14  7  4]\n",
      "<class 'numpy.ndarray'>\n"
     ]
    }
   ],
   "source": [
    "\n",
    "myED=[]\n",
    "\n",
    "for start, stop in zip(id_start,id_stop):\n",
    "    ed=ED(start,stop,time,flux_model,flux_gap)\n",
    "    myED.append(np.log10(ed*24.*60.*60.*L_quiet))\n",
    "    histmy, bin_edges1=np.histogram(myED, bins=5)\n",
    "\n",
    "    \n",
    "AppaED=[]\n",
    "\n",
    "for start, stop in zip(istart,istop):\n",
    "    ed=ED(start,stop,time,flux_model,flux_gap)\n",
    "    AppaED.append(np.log10(ed*24.*60.*60.*L_quiet))\n",
    "    histAppa, bin_edges2=np.histogram(AppaED,bins=bin_edges1)\n",
    "\n",
    "print(histAppa)\n",
    "print(histmy)\n",
    "bin_edges_help=bin_edges1[1:]\n",
    "binmids=[(x+bin_edges1[i])/2. for i,x in enumerate(bin_edges_help)]\n",
    "print(type(histAppa))"
   ]
  },
  {
   "cell_type": "code",
   "execution_count": 188,
   "metadata": {
    "collapsed": false,
    "deletable": true,
    "editable": true,
    "scrolled": true
   },
   "outputs": [
    {
     "name": "stderr",
     "output_type": "stream",
     "text": [
      "/usr/local/lib/python3.5/dist-packages/ipykernel_launcher.py:5: RuntimeWarning: divide by zero encountered in log10\n",
      "  \"\"\"\n"
     ]
    },
    {
     "data": {
      "image/png": "[encoded data removed]",
      "text/plain": [
       "<matplotlib.figure.Figure at 0x7fbfd1c75c18>"
      ]
     },
     "metadata": {},
     "output_type": "display_data"
    }
   ],
   "source": [
    "\n",
    "plt.figure()\n",
    "plt.title('EPIC '+objectid)\n",
    "plt.plot(binmids[1:],np.log10(histmy[1:]),alpha=0.8,color='red',label='By hand analysis')\n",
    "plt.plot(binmids[1:],np.log10(histAppa[1:]),alpha=0.8,label='Appaloosa results')\n",
    "#plt.hist(myED,len(myED)//5,alpha=0.8,color='red',label='By hand analysis')\n",
    "#plt.hist(AppaED,len(AppaED)//1,alpha=0.8,label='Appaloosa results')\n",
    "plt.legend()\n",
    "plt.xlabel('log(energy in erg)')\n",
    "plt.ylabel('log(frequency)')\n",
    "plt.show()\n",
    "#plt.savefig('results/'+objectid+'_byhand_vs_Appaloosa.png')"
   ]
  },
  {
   "cell_type": "code",
   "execution_count": null,
   "metadata": {
    "collapsed": true,
    "deletable": true,
    "editable": true
   },
   "outputs": [],
   "source": []
  }
 ],
 "metadata": {
  "kernelspec": {
   "display_name": "Python 3",
   "language": "python",
   "name": "python3"
  },
  "language_info": {
   "codemirror_mode": {
    "name": "ipython",
    "version": 3
   },
   "file_extension": ".py",
   "mimetype": "text/x-python",
   "name": "python",
   "nbconvert_exporter": "python",
   "pygments_lexer": "ipython3",
   "version": "3.5.2"
  }
 },
 "nbformat": 4,
 "nbformat_minor": 2
}
