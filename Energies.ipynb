{
 "cells": [
  {
   "cell_type": "code",
   "execution_count": 2,
   "metadata": {
    "collapsed": true,
    "deletable": true,
    "editable": true
   },
   "outputs": [],
   "source": [
    "import numpy as np\n",
    "from scipy.integrate import trapz\n",
    "import matplotlib.pyplot as plt"
   ]
  },
  {
   "cell_type": "code",
   "execution_count": 3,
   "metadata": {
    "collapsed": false,
    "deletable": true,
    "editable": true
   },
   "outputs": [],
   "source": [
    "cluster='Ruprecht_147'\n",
    "objectid='219652181'\n",
    "t_start,t_stop,id_start,id_stop,comment=np.loadtxt('share/cross_match/union/'+cluster+'_post_appa/'+objectid+'_my_flares.txt',delimiter=',',unpack=True,dtype=[('t_start', np.float), ('t_stop', np.float), ('id_start', np.int), ('id_stop', np.int), ('comment', 'S32')])\n",
    "time,flux_gap,error,flux_model=np.loadtxt('share/cross_match/union/'+cluster+'_post_appa/'+objectid+'.txt',delimiter=',',unpack=True)\n",
    "istart, istop=np.loadtxt('share/cross_match/union/'+cluster+'_post_appa/'+objectid+'_flares.txt',delimiter=',',unpack=True,dtype=np.dtype(np.int16))\n"
   ]
  },
  {
   "cell_type": "code",
   "execution_count": 4,
   "metadata": {
    "collapsed": false,
    "deletable": true,
    "editable": true
   },
   "outputs": [],
   "source": [
    "def ED(start,stop,time,flux_model,flux_gap):\n",
    "    time=time[start:stop+1]\n",
    "    model=flux_model[start:stop+1]\n",
    "    flux=flux_gap[start:stop+1]\n",
    "    residual=np.subtract(flux,model)\n",
    "    flare=trapz(residual,time)\n",
    "    quiet=trapz(model,time)\n",
    "    ed=flare/quiet\n",
    "    return ed\n"
   ]
  },
  {
   "cell_type": "code",
   "execution_count": 5,
   "metadata": {
    "collapsed": false,
    "deletable": true,
    "editable": true
   },
   "outputs": [],
   "source": [
    "myED=[]\n",
    "\n",
    "for start, stop in zip(id_start,id_stop):\n",
    "    ed=ED(start,stop,time,flux_model,flux_gap)\n",
    "    myED.append(ed)\n",
    "\n",
    "    \n",
    "AppaED=[]\n",
    "\n",
    "for start, stop in zip(istart,istop):\n",
    "    ed=ED(start,stop,time,flux_model,flux_gap)\n",
    "    AppaED.append(ed)\n",
    "\n"
   ]
  },
  {
   "cell_type": "code",
   "execution_count": 6,
   "metadata": {
    "collapsed": false,
    "deletable": true,
    "editable": true,
    "scrolled": true
   },
   "outputs": [
    {
     "data": {
      "image/png": "[encoded data removed]",
      "text/plain": [
       "<matplotlib.figure.Figure at 0x7f26690024d0>"
      ]
     },
     "metadata": {},
     "output_type": "display_data"
    }
   ],
   "source": [
    "\n",
    "plt.figure()\n",
    "plt.title('EPIC '+objectid)\n",
    "plt.hist(myED,len(myED)//5,alpha=0.8,color='red',label='By hand analysis')\n",
    "plt.hist(AppaED,len(AppaED)//1,alpha=0.8,label='Appaloosa results')\n",
    "plt.legend()\n",
    "plt.xlabel('ED in days')\n",
    "plt.show()\n",
    "#plt.savefig('results/'+objectid+'_byhand_vs_Appaloosa.png')"
   ]
  },
  {
   "cell_type": "markdown",
   "metadata": {
    "collapsed": true,
    "deletable": true,
    "editable": true
   },
   "source": [
    "- ~~retrieve colors~~\n",
    "- ~~retrieve distances for cluster~~\n",
    "- from colors estimate spectral class\n",
    "- from spectral class use spectrum from Sarah's SpecPhot\n",
    "- from spectral class use radius from XXX\n",
    "- use Kepler filter curve to calculate quiescent flux:\n",
    "- L_∗ = πR^2 ∗int( dλ R_Kepler(λ)* B_SpecPhot(λ))\n",
    "- Finally: ED*L_*=Kepler energy"
   ]
  },
  {
   "cell_type": "code",
   "execution_count": 267,
   "metadata": {
    "collapsed": false,
    "deletable": true,
    "editable": true
   },
   "outputs": [],
   "source": [
    "params=open('share/cross_match/union/'+cluster+'_parameter.txt')\n",
    "param_dict=dict()\n",
    "basics=params.readline()\n",
    "#print(basics)\n",
    "basics=[u for u in basics[1:-2].split(', ')]\n",
    "for line in params:\n",
    "    s=np.core.defchararray.split(line, sep=\",\").tolist()\n",
    "    col=s[3:]\n",
    "    col=[float(item) for item in col]\n",
    "    try:\n",
    "        param_dict[int(s[0])]=[int(s[1]),s[2],col]\n",
    "    except ValueError:\n",
    "        param_dict[int(s[0])]=[s[1],s[2],col]\n",
    "#print(param_dict)"
   ]
  },
  {
   "cell_type": "code",
   "execution_count": 280,
   "metadata": {
    "collapsed": false,
    "deletable": true,
    "editable": true
   },
   "outputs": [
    {
     "name": "stdout",
     "output_type": "stream",
     "text": [
      "[36, 37, 38, 39, 40, 41, 42, 43, 44, 45, 46, 47, 48, 49, 50, 51, 52, 53, 54, 55, 56, 57, 58, 59, 60, 61, 62, 63, 64, 65, 66, 67]\n"
     ]
    }
   ],
   "source": [
    "#if band value == -999.0 no magnitude is given\n",
    "\n",
    "#read in table for spectral class: read in as list [class,lum_class,u-g,g-r,r-i,i-z,z-J,J-H,H-k,Jmag_abs]\n",
    "#LATER: Add z-y from mamajek or so...\n",
    "import numpy as np\n",
    "spec_class,lum_class,ug,gr,ri,iz,zJ,JH,HK,Jmag_abs=np.loadtxt('share/cross_match/union/spectralclasses.csv',skiprows=49,delimiter=',',unpack=True,dtype=[('spec_class','S4'),('lum_class','U3'),('u-g',np.float),('g-r',np.float),('r-i',np.float),('i-z',np.float),('z-J',np.float),('J-H',np.float),('H-K',np.float),('Jmag_abs',np.float)])\n",
    "spec_class=[x.strip(' ') for x in spec_class]\n",
    "lum_class=[x.strip(' ') for x in lum_class]\n",
    "lum_class_I=[i for i,x in enumerate(lum_class) if x=='I']\n",
    "lum_class_III=[i for i,x in enumerate(lum_class) if x=='III']\n",
    "lum_class_V=[i for i,x in enumerate(lum_class) if x=='V']\n",
    "\n",
    "#spec_class_I=[x for i,x in enumerate(spec_class) if i in lum_class_I]\n",
    "print(lum_class_III)\n",
    "lookup_spec={'Jmag_abs':Jmag_abs,'V':lum_class_V,'III':lum_class_III,'I':lum_class_I,'class':spec_class,'ug':ug,'gr':gr,'ri':ri,'iz':iz,'zJ':zJ,'jh':JH,'hk':HK}"
   ]
  },
  {
   "cell_type": "code",
   "execution_count": 281,
   "metadata": {
    "collapsed": false,
    "deletable": true,
    "editable": true
   },
   "outputs": [
    {
     "name": "stdout",
     "output_type": "stream",
     "text": [
      "7.3856062736\n"
     ]
    }
   ],
   "source": [
    "#calculate distance modulus for cluster\n",
    "DM = lambda x: 5.*np.log10(float(x))-5. #I used a lambda function!\n",
    "dm=DM(basics[3])\n",
    "print(dm)\n",
    "global dm"
   ]
  },
  {
   "cell_type": "code",
   "execution_count": 290,
   "metadata": {
    "collapsed": true
   },
   "outputs": [],
   "source": [
    "from bisect import bisect_left as binary_search\n",
    "#\n",
    "def find_spec_class(lookup_spec,color, index,l='V'):\n",
    "    try:\n",
    "        spec_class=lookup_spec['class']\n",
    "        lum_class=lookup_spec[l]\n",
    "\n",
    "        color_list=lookup_spec[index]\n",
    "        i_lam=min(color_list, key=lambda x:abs(x-color))\n",
    "        i=binary_search(color_list[lum_class],color)-1\n",
    "        print(i,i_lam)\n",
    "        return [spec_class[lum_class[i]],l]\n",
    "    except KeyError:\n",
    "        return 'no entry'\n",
    "    \n",
    "    "
   ]
  },
  {
   "cell_type": "code",
   "execution_count": 291,
   "metadata": {
    "collapsed": false,
    "deletable": true,
    "editable": true
   },
   "outputs": [
    {
     "name": "stdout",
     "output_type": "stream",
     "text": [
      "33 0.76\n",
      "22 4.5\n",
      "{'J': [4.3533937264016878, ['K0', 'V']], 'iz': [0.7639999999999993, ['M4', 'V']], 'zy': [0.46199999999999974, 'no entry']}\n",
      "26 0.54\n",
      "27 0.34\n",
      "22 4.17\n",
      "{'J': [4.2753937264016866, ['K0', 'V']], 'iz': [0.34499999999999886, ['K7', 'V']], 'ri': [0.5159999999999982, ['K5', 'V']]}\n",
      "35 7.72\n",
      "{'J': [8.6763937264016882, ['M6', 'V']]}\n",
      "24 0.89\n",
      "24 0.32\n",
      "25 0.18\n",
      "34 7.72\n",
      "{'zy': [0.1789999999999985, 'no entry'], 'J': [7.6483937264016877, ['M5', 'V']], 'iz': [0.18400000000000105, ['K4', 'V']], 'gr': [0.8989999999999974, ['K3', 'V']], 'ri': [0.32700000000000173, ['K3', 'V']]}\n",
      "18 0.28\n",
      "21 0.05\n",
      "12 2.43\n",
      "{'hk': [0.05400000000000027, ['G8', 'V']], 'J': [2.2063937264016875, ['A7', 'V']], 'jh': [0.28200000000000003, ['G0', 'V']]}\n",
      "15 0.23\n",
      "26 0.11\n",
      "12 1.82\n",
      "{'hk': [0.10699999999999932, ['K5', 'V']], 'J': [1.7923937264016878, ['A7', 'V']], 'jh': [0.22500000000000142, ['F5', 'V']]}\n",
      "17 0.23\n",
      "24 0.09\n",
      "11 1.72\n",
      "{'hk': [0.09200000000000053, ['K3', 'V']], 'J': [1.7193937264016874, ['A5', 'V']], 'jh': [0.23300000000000054, ['F8', 'V']]}\n",
      "17 0.23\n",
      "24 0.07\n",
      "9 1.25\n",
      "{'hk': [0.07499999999999929, ['K3', 'V']], 'J': [1.2403937264016864, ['A2', 'V']], 'jh': [0.25399999999999956, ['F8', 'V']]}\n",
      "20 0.3\n",
      "21 0.06\n",
      "12 1.82\n",
      "{'hk': [0.058999999999999275, ['G8', 'V']], 'J': [1.9523937264016862, ['A7', 'V']], 'jh': [0.30599999999999916, ['G5', 'V']]}\n",
      "25 1.02\n",
      "31 1.05\n",
      "29 0.52\n",
      "23 4.94\n",
      "{'zy': [0.25700000000000145, 'no entry'], 'J': [4.7243937264016864, ['K2', 'V']], 'iz': [0.5180000000000007, ['M1', 'V']], 'gr': [1.0150000000000006, ['K4', 'V']], 'ri': [1.0939999999999976, ['M2.5', 'V']]}\n",
      "18 0.28\n",
      "24 0.08\n",
      "12 1.82\n",
      "{'hk': [0.07599999999999874, ['K3', 'V']], 'J': [1.9533937264016874, ['A7', 'V']], 'jh': [0.28000000000000114, ['G0', 'V']]}\n",
      "26 1.27\n",
      "28 0.65\n",
      "28 0.38\n",
      "18 3.45\n",
      "{'zy': [0.24599999999999866, 'no entry'], 'J': [3.3923937264016875, ['G0', 'V']], 'iz': [0.38899999999999935, ['M0', 'V']], 'gr': [1.2579999999999991, ['K5', 'V']], 'ri': [0.6510000000000034, ['M0', 'V']]}\n",
      "22 0.62\n",
      "10 -0.14\n",
      "30 0.58\n",
      "20 3.85\n",
      "{'J': [3.8293937264016868, ['G5', 'V']], 'iz': [0.5850000000000009, ['M2', 'V']], 'gr': [0.6440000000000019, ['K0', 'V']], 'ri': [-0.14000000000000057, ['A3', 'V']]}\n",
      "14 0.09\n",
      "24 0.08\n",
      "11 1.72\n",
      "{'hk': [0.07600000000000051, ['K3', 'V']], 'J': [1.7243937264016864, ['A5', 'V']], 'jh': [0.09799999999999898, ['F2', 'V']]}\n",
      "-1 -4.5\n",
      "{'J': [nan, ['M6', 'V']]}\n",
      "20 0.33\n",
      "21 0.05\n",
      "9 1.17\n",
      "{'hk': [0.053000000000000824, ['G8', 'V']], 'J': [1.2023937264016862, ['A2', 'V']], 'jh': [0.3169999999999984, ['G5', 'V']]}\n",
      "23 0.29\n",
      "27 0.38\n",
      "23 4.5\n",
      "{'J': [4.7063937264016875, ['K2', 'V']], 'iz': [0.379999999999999, ['K7', 'V']], 'ri': [0.28699999999999903, ['K2', 'V']]}\n",
      "31 1.2\n",
      "29 0.52\n",
      "12 1.82\n",
      "{'J': [1.9303937264016877, ['A7', 'V']], 'iz': [0.5180000000000007, ['M1', 'V']], 'ri': [1.1260000000000012, ['M2.5', 'V']], 'zy': [0.3249999999999993, 'no entry']}\n",
      "14 0.09\n",
      "21 0.05\n",
      "8 1.17\n",
      "{'hk': [0.05400000000000027, ['G8', 'V']], 'J': [1.0513937264016864, ['A0', 'V']], 'jh': [0.08599999999999852, ['F2', 'V']]}\n",
      "22 0.51\n",
      "27 0.12\n",
      "8 0.56\n",
      "{'hk': [0.12199999999999989, ['K7', 'V']], 'J': [0.61639372640168766, ['A0', 'V']], 'jh': [0.49600000000000044, ['K0', 'V']]}\n",
      "8 0.56\n",
      "{'J': [0.56839372640168673, ['A0', 'V']]}\n",
      "30 0.58\n",
      "21 3.85\n",
      "{'J': [3.9793937264016872, ['G8', 'V']], 'iz': [0.5919999999999987, ['M2', 'V']], 'zy': [0.4870000000000019, 'no entry']}\n"
     ]
    }
   ],
   "source": [
    "#For each obj in dict:\n",
    "#whatever is available: Calculate color_index i-z (or z-y), J-H in this order\n",
    "\n",
    "def insert_spec_class(c,lookup_spec,j,h,index):\n",
    "    if j!=-999.0 and h!=-999.0:\n",
    "        c[index]=[j-h,find_spec_class(lookup_spec,j-h,index)]\n",
    "    return \n",
    "def insert_lum_class(c,lookup_spec,J,index):\n",
    "    if J!=-999.0:\n",
    "        J-=dm\n",
    "        c[index]=[J,find_spec_class(lookup_spec,J,'Jmag_abs')]\n",
    "    return \n",
    "\n",
    "for key,value in param_dict.items():\n",
    "    \n",
    "    if len(value)==4:\n",
    "        c=value[3]\n",
    "    else:\n",
    "        value.append(dict())\n",
    "        c=value[3]\n",
    "    if value[1]=='jhkJ':\n",
    "        j,h,k,J=value[2]\n",
    "        insert_spec_class(c,lookup_spec,j,h,'jh')\n",
    "        insert_spec_class(c,lookup_spec,h,k,'hk')\n",
    "        insert_lum_class(c,lookup_spec,J,'J')\n",
    "        \n",
    "    elif value[1]=='grizyJ':\n",
    "        g,r,i,z,y,J=value[2]\n",
    "        insert_spec_class(c,lookup_spec,g,r,'gr')\n",
    "        insert_spec_class(c,lookup_spec,r,i,'ri')\n",
    "        insert_spec_class(c,lookup_spec,i,z,'iz')\n",
    "        insert_spec_class(c,lookup_spec,z,y,'zy')\n",
    "        insert_lum_class(c,lookup_spec,J,'J')\n",
    "\n",
    "    print(c)\n",
    "#check with spectral class table. find value in ordered list\n",
    "#check distance with luminosity class using absolute Jmag_abs and J from param_dict\n",
    "#add color_index, spec_class to obj#bokeh barplot spectral classes"
   ]
  },
  {
   "cell_type": "code",
   "execution_count": 289,
   "metadata": {
    "collapsed": true
   },
   "outputs": [],
   "source": [
    "#check with spectral class table. find value in ordered list\n"
   ]
  },
  {
   "cell_type": "code",
   "execution_count": null,
   "metadata": {
    "collapsed": true
   },
   "outputs": [],
   "source": []
  }
 ],
 "metadata": {
  "kernelspec": {
   "display_name": "VPython",
   "language": "python",
   "name": "vpython"
  },
  "language_info": {
   "codemirror_mode": {
    "name": "ipython",
    "version": 2
   },
   "file_extension": ".py",
   "mimetype": "text/x-python",
   "name": "python",
   "nbconvert_exporter": "python",
   "pygments_lexer": "ipython2",
   "version": "2.7.12"
  }
 },
 "nbformat": 4,
 "nbformat_minor": 2
}
