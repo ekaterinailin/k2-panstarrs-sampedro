{
 "cells": [
  {
   "cell_type": "markdown",
   "metadata": {
    "collapsed": true,
    "deletable": true,
    "editable": true
   },
   "source": [
    "# Energy calculation for flares in K2 lightcurves\n",
    "## To Do:\n",
    "- ~~retrieve colors~~\n",
    "- ~~retrieve distances for cluster~~\n",
    "- ~~from colors estimate spectral class~~\n",
    "- from spectral class use spectrum from Sarah's SpecPhot\n",
    "- from spectral class use radius from XXX\n",
    "- use Kepler filter curve to calculate quiescent flux:\n",
    "- L_∗ = πR^2 ∗int( dλ R_Kepler(λ)* B_SpecPhot(λ))\n",
    "- Finally: ED*L_*=Kepler energy"
   ]
  },
  {
   "cell_type": "code",
   "execution_count": 169,
   "metadata": {
    "collapsed": false,
    "deletable": true,
    "editable": true
   },
   "outputs": [
    {
     "name": "stdout",
     "output_type": "stream",
     "text": [
      "[70, 71, 72, 73, 74, 75, 76, 77, 78, 79, 80, 81, 82, 83, 84, 85, 86, 87, 88, 89, 90, 91, 92, 93, 94, 95, 96, 97, 98, 99, 100, 101, 102, 103, 104]\n"
     ]
    }
   ],
   "source": [
    "#if band value == -999.0 no magnitude is given\n",
    "#read in table for spectral class: read in as list [class,lum_class,u-g,g-r,r-i,i-z,z-J,J-H,H-k,Jmag_abs]\n",
    "#LATER: Add z-y from mamajek or so...\n",
    "import numpy as np\n",
    "spec_class,lum_class,ug,gr,ri,iz,zJ,JH,HK,Jmag_abs=np.loadtxt('share/cross_match/union/spectralclasses_padded.csv',skiprows=49,delimiter=',',unpack=True,dtype=[('spec_class','S4'),('lum_class','U3'),('u-g',np.float),('g-r',np.float),('r-i',np.float),('i-z',np.float),('z-J',np.float),('J-H',np.float),('H-K',np.float),('Jmag_abs',np.float)])\n",
    "spec_class=[x.strip(' ') for x in spec_class]\n",
    "lum_class=[x.strip(' ') for x in lum_class]\n",
    "lum_class_I=[i for i,x in enumerate(lum_class) if x=='I']\n",
    "lum_class_III=[i for i,x in enumerate(lum_class) if x=='III']\n",
    "lum_class_V=[i for i,x in enumerate(lum_class) if x=='V']\n",
    "print(lum_class_I)\n",
    "spec_class_I=[x for i,x in enumerate(spec_class) if i in lum_class_I]\n",
    "spec_class_III=[x for i,x in enumerate(spec_class) if i in lum_class_III]\n",
    "spec_class_V=[x for i,x in enumerate(spec_class) if i in lum_class_V]\n",
    "lookup_spec={'Jmag_abs':Jmag_abs,'V':lum_class_V,'III':lum_class_III,'I':lum_class_I,'class':spec_class,'ug':ug,'gr':gr,'ri':ri,'iz':iz,'zJ':zJ,'jh':JH,'hk':HK}\n",
    "#calculate distance modulus for cluster\n",
    "DM = lambda x: 5.*np.log10(float(x))-5. \n",
    "dm=DM(basics[3])\n",
    "global dm"
   ]
  },
  {
   "cell_type": "code",
   "execution_count": 211,
   "metadata": {
    "collapsed": true,
    "deletable": true,
    "editable": true
   },
   "outputs": [],
   "source": [
    "def find_spec_class(lookup_spec,color, index,l='V'):\n",
    "    try:\n",
    "        spec_class=lookup_spec['class']\n",
    "        lum_class=lookup_spec[l]\n",
    "\n",
    "        color_list=lookup_spec[index]\n",
    "        i_lam=min(color_list, key=lambda x:abs(x-color))\n",
    "        idx=search(color_list,lum_class,color)\n",
    "        if len(idx)!=0:\n",
    "            spec_classes=[spec_class[j] for j in idx]\n",
    "\n",
    "        else:\n",
    "            spec_classes='color too high or low to be assigned to spectral class in this luminosity class'\n",
    "        return idx,[spec_classes,l]\n",
    "    except KeyError:\n",
    "        idx=[]\n",
    "        return idx,'no entries for this color index'\n",
    "    \n",
    "def search(l,id_, val):\n",
    "    \n",
    "    results=[]\n",
    "    l=list(l)\n",
    "    id_=list(id_)\n",
    "    l=list(l)\n",
    "    l1=[(x,l[x]) for x in id_]\n",
    "\n",
    "    l2=l1[1:]+[(id_[-1]+1,-l1[-2][1]+2.*l1[-1][1])]\n",
    "    #print('{}\\n{}\\n{}'.format(l,l1,id_))\n",
    "    #print(l1,l2)\n",
    "    for i,j in zip(l1,l2):\n",
    "        if i[1]<val<j[1]:\n",
    "            if (val-i[1] > val-j[1]): \n",
    "                results.append(i[0])\n",
    "            else:\n",
    "                if (j==l2[-1][1]):\n",
    "                    results.append(i[0])\n",
    "                else:\n",
    "                    results.append(j[0])\n",
    "    #print(results)\n",
    "    #print('{}\\n{}'.format(results,id_))\n",
    "\n",
    "    return results\n",
    "            "
   ]
  },
  {
   "cell_type": "code",
   "execution_count": 212,
   "metadata": {
    "collapsed": false,
    "deletable": true,
    "editable": true
   },
   "outputs": [],
   "source": [
    "import random\n",
    "\n",
    "def dprint(str,debug):\n",
    "    if debug==True:\n",
    "        print(str)\n",
    "    return\n",
    "\n",
    "def display(opt,d,debug):\n",
    "    dprint('New combination: {}'.format(opt),debug)\n",
    "    dprint('This combination has distance {}'.format(d),debug)\n",
    "    return\n",
    "           \n",
    "def insert_spec_class(c,lookup_spec,c1,c2,index,l='V'):\n",
    "    if c1!=-999.0 and c2!=-999.0:\n",
    "        idx,all_spectral_classes=find_spec_class(lookup_spec,c1-c2,index,l)\n",
    "        c[index]=[c1-c2,all_spectral_classes]\n",
    "    else:\n",
    "        idx=[]\n",
    "    return idx\n",
    "\n",
    "def insert_lum_class(c,lookup_spec,J,index,l='V'):\n",
    "    if J!=-999.0:\n",
    "        J-=dm\n",
    "        idx, all_spectral_classes=find_spec_class(lookup_spec,J,'Jmag_abs',l)\n",
    "        c[index]=[J,all_spectral_classes]\n",
    "    else:\n",
    "        idx=[]\n",
    "    return idx\n",
    "\n",
    "def optimize_spec_class(obj_handle,colors,lookup_spec,c_idx='jhkJ',debug=False):\n",
    "    \n",
    "    #Depending on the catalog from the colors are constructed either JHK or grizy is available:\n",
    "    color_indices={'jhkJ':{'jh':colors[:2],'hk':colors[1:3],'J':colors[3]},'grizyJ':{'gr':colors[:2],'ri':colors[1:3],'iz':colors[2:4],'zy':colors[3:5]}}#,'J':colors[5]\n",
    "    #Different luminosity classes can occur\n",
    "    luminosity_classes={'I':0.01,'III':0.,'V':-0.01}\n",
    "    \n",
    "    #Now choose a set of colors: jhkJ or grizyJ\n",
    "    indices=color_indices[c_idx]\n",
    "    \n",
    "    #Initialize the procedure:\n",
    "    lum_opt=dict()\n",
    "    minspread=10000\n",
    "    best_lum_class='V'\n",
    "    best_spec_class='None'\n",
    "    opt_backup=dict()\n",
    "    \n",
    "    #Construct the optimum spec class solution for each luminosity class:\n",
    "    for lum_class, weight in luminosity_classes.items():\n",
    "        dprint('-------------',debug)\n",
    "        dprint(lum_class,debug)\n",
    "        \n",
    "        #initialize a list that contain the indices in order to compute the uncertainty on the estimate later\n",
    "        spr=[]\n",
    "        #initialize the color indices that are used in the end and their respective values\n",
    "        color_results={}\n",
    "        \n",
    "        #Iterate over all color indices (j,h,k or g,r,i,z,y) to compute possible colors (e.g.: j-h or r-i)\n",
    "        #This yields a list of possible spectral classes for each color since colors are not \n",
    "        #an unambiguous function of spectral class, i.e. several spectral classes can share the same color index\n",
    "        for key,value in indices.items():\n",
    "            \n",
    "            if key=='J':\n",
    "                #Same goes for luminosity only. Jmag_abs values correspond to spectral classes, too:\n",
    "                #idx returns the indices into the Pickles'98 table that correspond to spec classes:\n",
    "                #all of this for the given luminosity class\n",
    "                idx=insert_lum_class(obj_handle,lookup_spec,value,key,l=lum_class)\n",
    "            else:\n",
    "                #unpack the colors for each color index\n",
    "                c1,c2=value\n",
    "                #idx returns the indices into the Pickles'98 table that correspond to spec classes:\n",
    "                #all of this for the given luminosity class\n",
    "                idx=insert_spec_class(obj_handle,lookup_spec,c1,c2,key,l=lum_class)\n",
    " \n",
    "            #So, for a certain color index name (key) there is a list of indices (idx) that fit into the Pickles'98 table\n",
    "            color_results[key]=idx\n",
    "        \n",
    "        \n",
    "        dprint(color_results,debug)\n",
    "        \n",
    "        #Now given a dict with different colors and possible spec classes for each of them we have to find the best combination\n",
    "        #This is done by finding the combination which lies closest together within the table and hence has the least uncertainty\n",
    "        \n",
    "        #Initialize the a new possible optimum, that may later become the backup solution\n",
    "        opt=dict()\n",
    "        #Iterate over all colors and their possible classes to find the closest entries in the other color indices\n",
    "        for key, value in color_results.items():\n",
    "            #remove the regarded color index to avoid redundance\n",
    "            rest_results=dict(color_results)\n",
    "            del rest_results[key]\n",
    "            #Iterate over all possible classes (index) for the given central color (key)\n",
    "            for index in value:\n",
    "                #add the associated color for the central index\n",
    "                opt[key]=lookup_spec['class'][index]\n",
    "                #add central index to the list of indices that should be clostest to each other among all given indices across all colors\n",
    "                spr.append(index)\n",
    "                #Init distance list for linear distances\n",
    "                d=[]\n",
    "                #Iterate over all other colors and find the indices of possible spectral classes that are closest to the chosen cetral one\n",
    "                for key2, value2 in rest_results.items():\n",
    "                    #compute all the linear distances\n",
    "                    delta=[abs(x-index) for x in value2]\n",
    "                    if delta!=[]:\n",
    "                        #find the minimum linear distance\n",
    "                        dadd=min(delta)\n",
    "                        d.append(dadd)\n",
    "                        #find its corresponding index in Pickles'98 table\n",
    "                        minind=value2[delta.index(dadd)]\n",
    "                        #add the associated color\n",
    "                        opt[key2]=lookup_spec['class'][minind]\n",
    "                        #add to the list of indices that should be closest to each other\n",
    "                        spr.append(minind)\n",
    "                \n",
    "                #distance calculation\n",
    "                #The row number distance within a padded table is used as proxy to uncertainty\n",
    "                #distance d is defined as the sum of distances to one of the rows in n-colored space\n",
    "                d=np.sqrt(sum([x*x for x in d]))/len(color_results)\n",
    "                \n",
    "                #select this iteration if it yields a minimum in distance\n",
    "                try:\n",
    "                    if d<mindist:\n",
    "                        #output for debugging\n",
    "                        display(opt,d,debug)\n",
    "                        mindist=d\n",
    "                        opt_backup=dict(opt)\n",
    "                    else:\n",
    "                        #output for debugging\n",
    "                        display(opt,d,debug)\n",
    "                        dprint('Best solution has been found already, namely: {}'.format(opt_backup),debug)\n",
    "                        opt.clear()\n",
    "                #This error occurs if mindist has not yet been assigned\n",
    "                except UnboundLocalError:\n",
    "                    #output for debugging\n",
    "                    display(opt,d,debug)\n",
    "                    mindist=d\n",
    "                    opt_backup=dict(opt)\n",
    "        mindist=0\n",
    "        del mindist\n",
    "        #Assign a relative spread within the best solution weighted by the number of colors\n",
    "        rel_spread=np.std(np.array(spr))/len(spr)\n",
    "        #Calculate the mean index for the resulting spectral class\n",
    "        mean=np.mean(np.array(spr))\n",
    "        dprint('The relative spread for the optimum solution in this luminosity class is {}'.format(rel_spread),debug)\n",
    "        #Minimize the spread across all luminosity classes\n",
    "        try:\n",
    "            if rel_spread+weight<minspread:\n",
    "                minspread=rel_spread\n",
    "                best_lum_class=lum_class\n",
    "                best_spec_class=lookup_spec['class'][int(np.rint(mean))]\n",
    "        #This error occurs if rel_spread has not yet been assigned\n",
    "        except UnboundLocalError:\n",
    "            minspread=rel_spread\n",
    "            best_lum_class=lum_class\n",
    "            best_spec_class=lookup_spec['class'][int(np.rint(mean))]\n",
    "        #Summarize the results for all luminosity classes in one dict:\n",
    "        lum_opt[lum_class]=[rel_spread,opt_backup]\n",
    "        \n",
    "    dprint('-------------------',debug)\n",
    "    dprint('Best results for spectral class and luminosity class: L={} and spec={}.'.format(best_lum_class,best_spec_class),debug)\n",
    "    dprint('',debug)\n",
    "    \n",
    "    \n",
    "    return best_lum_class,best_spec_class,lum_opt\n",
    "\n"
   ]
  },
  {
   "cell_type": "markdown",
   "metadata": {},
   "source": [
    "## Here I test the pipeline for a single LC in Ruprecht 147, ID=219561713:"
   ]
  },
  {
   "cell_type": "code",
   "execution_count": 213,
   "metadata": {
    "collapsed": false,
    "deletable": true,
    "editable": true
   },
   "outputs": [
    {
     "name": "stdout",
     "output_type": "stream",
     "text": [
      "-------------\n",
      "I\n",
      "{'hk': [87, 93, 96], 'J': [], 'jh': [79]}\n",
      "New combination: {'hk': 'F5', 'jh': 'B8'}\n",
      "This combination has distance 2.66666666667\n",
      "New combination: {'hk': 'G2', 'jh': 'B8'}\n",
      "This combination has distance 4.66666666667\n",
      "Best solution has been found already, namely: {'hk': 'F5', 'jh': 'B8'}\n",
      "New combination: {'hk': 'G8', 'jh': 'B8'}\n",
      "This combination has distance 5.66666666667\n",
      "Best solution has been found already, namely: {'hk': 'F5', 'jh': 'B8'}\n",
      "New combination: {'hk': 'F5', 'jh': 'B8'}\n",
      "This combination has distance 2.66666666667\n",
      "Best solution has been found already, namely: {'hk': 'F5', 'jh': 'B8'}\n",
      "The relative spread for the optimum solution in this luminosity class is 0.811146709526\n",
      "-------------\n",
      "III\n",
      "{'hk': [51, 54], 'J': [48], 'jh': [41, 44]}\n",
      "New combination: {'hk': 'K0', 'J': 'G0', 'jh': 'A7'}\n",
      "This combination has distance 2.53859103529\n",
      "New combination: {'hk': 'K2', 'J': 'G0', 'jh': 'A7'}\n",
      "This combination has distance 3.88730126323\n",
      "Best solution has been found already, namely: {'hk': 'K0', 'J': 'G0', 'jh': 'A7'}\n",
      "New combination: {'hk': 'K0', 'J': 'G0', 'jh': 'A7'}\n",
      "This combination has distance 1.66666666667\n",
      "New combination: {'hk': 'K0', 'J': 'G0', 'jh': 'A3'}\n",
      "This combination has distance 4.06885187191\n",
      "Best solution has been found already, namely: {'hk': 'K0', 'J': 'G0', 'jh': 'A7'}\n",
      "New combination: {'hk': 'K0', 'J': 'G0', 'jh': 'A7'}\n",
      "This combination has distance 2.68741924943\n",
      "Best solution has been found already, namely: {'hk': 'K0', 'J': 'G0', 'jh': 'A7'}\n",
      "The relative spread for the optimum solution in this luminosity class is 0.233068632927\n",
      "-------------\n",
      "V\n",
      "{'hk': [20, 23], 'J': [7], 'jh': [9, 13]}\n",
      "New combination: {'hk': 'G8', 'J': 'A0', 'jh': 'F2'}\n",
      "This combination has distance 4.92160768674\n",
      "New combination: {'hk': 'K3', 'J': 'A0', 'jh': 'F2'}\n",
      "This combination has distance 6.2893207547\n",
      "Best solution has been found already, namely: {'hk': 'G8', 'J': 'A0', 'jh': 'F2'}\n",
      "New combination: {'hk': 'G8', 'J': 'A0', 'jh': 'A3'}\n",
      "This combination has distance 4.38431547932\n",
      "New combination: {'hk': 'G8', 'J': 'A0', 'jh': 'A3'}\n",
      "This combination has distance 3.7267799625\n",
      "New combination: {'hk': 'G8', 'J': 'A0', 'jh': 'F2'}\n",
      "This combination has distance 3.07318148576\n",
      "The relative spread for the optimum solution in this luminosity class is 0.38796716165\n",
      "-------------------\n",
      "Best results for spectral class and luminosity class: L=III and spec=G0.\n",
      "\n"
     ]
    },
    {
     "data": {
      "text/plain": [
       "('III',\n",
       " 'G0',\n",
       " {'I': [0.81114670952608814, {'hk': 'F5', 'jh': 'B8'}],\n",
       "  'III': [0.23306863292670035, {'J': 'G0', 'hk': 'K0', 'jh': 'A7'}],\n",
       "  'V': [0.38796716164969236, {'J': 'A0', 'hk': 'G8', 'jh': 'F2'}]})"
      ]
     },
     "execution_count": 213,
     "metadata": {},
     "output_type": "execute_result"
    }
   ],
   "source": [
    "try:\n",
    "    ID,c_idx,colors,results=param_dict[219561713]\n",
    "except ValueError:\n",
    "    value=param_dict[219630699]\n",
    "    ID,c_idx, colors=value\n",
    "    results=value.append(dict())\n",
    "\n",
    "optimize_spec_class(results,colors,lookup_spec,c_idx=c_idx,debug=True)"
   ]
  },
  {
   "cell_type": "markdown",
   "metadata": {},
   "source": [
    "## If the test works, try to process the entire cluster with the function defined below"
   ]
  },
  {
   "cell_type": "code",
   "execution_count": 214,
   "metadata": {
    "collapsed": false,
    "deletable": true,
    "editable": true,
    "scrolled": false
   },
   "outputs": [],
   "source": [
    "def optimize_spec_class_all(param_dict, lookup_spec, debug=False):\n",
    "    ID_lum_spec=[]\n",
    "    for key,value in param_dict.items():\n",
    "        #print(key)\n",
    "        try:\n",
    "            ID,c_idx,colors,results=value\n",
    "        except ValueError:\n",
    "            ID,c_idx, colors=value\n",
    "            value.append(dict())\n",
    "            results=value[3]\n",
    "\n",
    "        best_lum_class,best_spec_class,lum_opt=optimize_spec_class(results,colors,lookup_spec,c_idx=c_idx,debug=debug)\n",
    "        ID_lum_spec.append((key,best_lum_class,best_spec_class))\n",
    "    return ID_lum_spec"
   ]
  },
  {
   "cell_type": "code",
   "execution_count": 215,
   "metadata": {
    "collapsed": false,
    "deletable": true,
    "editable": true
   },
   "outputs": [],
   "source": [
    "import numpy as np\n",
    "cluster='Ruprecht_147'\n",
    "params=open('share/cross_match/union/'+cluster+'_parameter.txt')\n",
    "param_dict=dict()\n",
    "basics=params.readline()\n",
    "#print(basics)\n",
    "basics=[u for u in basics[1:-2].split(', ')]\n",
    "for line in params:\n",
    "    s=np.core.defchararray.split(line, sep=\",\").tolist()\n",
    "    col=s[3:]\n",
    "    col=[float(item) for item in col]\n",
    "    try:\n",
    "        param_dict[int(s[0])]=[int(s[1]),s[2],col]\n",
    "    except ValueError:\n",
    "        param_dict[int(s[0])]=[s[1],s[2],col]\n",
    "\n",
    "ID_lum_spec=optimize_spec_class_all(param_dict,lookup_spec,debug=False)"
   ]
  },
  {
   "cell_type": "markdown",
   "metadata": {},
   "source": [
    "## Plot the results!"
   ]
  },
  {
   "cell_type": "code",
   "execution_count": 1,
   "metadata": {
    "collapsed": false
   },
   "outputs": [
    {
     "ename": "NameError",
     "evalue": "name 'np' is not defined",
     "output_type": "error",
     "traceback": [
      "\u001b[0;31m---------------------------------------------------------------------------\u001b[0m",
      "\u001b[0;31mNameError\u001b[0m                                 Traceback (most recent call last)",
      "\u001b[0;32m<ipython-input-1-d575f3aa72c3>\u001b[0m in \u001b[0;36m<module>\u001b[0;34m()\u001b[0m\n\u001b[1;32m      1\u001b[0m \u001b[0;34m\u001b[0m\u001b[0m\n\u001b[0;32m----> 2\u001b[0;31m \u001b[0mspec_class\u001b[0m\u001b[0;34m,\u001b[0m\u001b[0mlum_class\u001b[0m\u001b[0;34m,\u001b[0m\u001b[0mug\u001b[0m\u001b[0;34m,\u001b[0m\u001b[0mgr\u001b[0m\u001b[0;34m,\u001b[0m\u001b[0mri\u001b[0m\u001b[0;34m,\u001b[0m\u001b[0miz\u001b[0m\u001b[0;34m,\u001b[0m\u001b[0mzJ\u001b[0m\u001b[0;34m,\u001b[0m\u001b[0mJH\u001b[0m\u001b[0;34m,\u001b[0m\u001b[0mHK\u001b[0m\u001b[0;34m,\u001b[0m\u001b[0mJmag_abs\u001b[0m\u001b[0;34m=\u001b[0m\u001b[0mnp\u001b[0m\u001b[0;34m.\u001b[0m\u001b[0mloadtxt\u001b[0m\u001b[0;34m(\u001b[0m\u001b[0;34m'share/cross_match/union/spectralclasses_padded.csv'\u001b[0m\u001b[0;34m,\u001b[0m\u001b[0mskiprows\u001b[0m\u001b[0;34m=\u001b[0m\u001b[0;36m49\u001b[0m\u001b[0;34m,\u001b[0m\u001b[0mdelimiter\u001b[0m\u001b[0;34m=\u001b[0m\u001b[0;34m','\u001b[0m\u001b[0;34m,\u001b[0m\u001b[0munpack\u001b[0m\u001b[0;34m=\u001b[0m\u001b[0mTrue\u001b[0m\u001b[0;34m,\u001b[0m\u001b[0mdtype\u001b[0m\u001b[0;34m=\u001b[0m\u001b[0;34m[\u001b[0m\u001b[0;34m(\u001b[0m\u001b[0;34m'spec_class'\u001b[0m\u001b[0;34m,\u001b[0m\u001b[0;34m'S4'\u001b[0m\u001b[0;34m)\u001b[0m\u001b[0;34m,\u001b[0m\u001b[0;34m(\u001b[0m\u001b[0;34m'lum_class'\u001b[0m\u001b[0;34m,\u001b[0m\u001b[0;34m'S3'\u001b[0m\u001b[0;34m)\u001b[0m\u001b[0;34m,\u001b[0m\u001b[0;34m(\u001b[0m\u001b[0;34m'u-g'\u001b[0m\u001b[0;34m,\u001b[0m\u001b[0mnp\u001b[0m\u001b[0;34m.\u001b[0m\u001b[0mfloat\u001b[0m\u001b[0;34m)\u001b[0m\u001b[0;34m,\u001b[0m\u001b[0;34m(\u001b[0m\u001b[0;34m'g-r'\u001b[0m\u001b[0;34m,\u001b[0m\u001b[0mnp\u001b[0m\u001b[0;34m.\u001b[0m\u001b[0mfloat\u001b[0m\u001b[0;34m)\u001b[0m\u001b[0;34m,\u001b[0m\u001b[0;34m(\u001b[0m\u001b[0;34m'r-i'\u001b[0m\u001b[0;34m,\u001b[0m\u001b[0mnp\u001b[0m\u001b[0;34m.\u001b[0m\u001b[0mfloat\u001b[0m\u001b[0;34m)\u001b[0m\u001b[0;34m,\u001b[0m\u001b[0;34m(\u001b[0m\u001b[0;34m'i-z'\u001b[0m\u001b[0;34m,\u001b[0m\u001b[0mnp\u001b[0m\u001b[0;34m.\u001b[0m\u001b[0mfloat\u001b[0m\u001b[0;34m)\u001b[0m\u001b[0;34m,\u001b[0m\u001b[0;34m(\u001b[0m\u001b[0;34m'z-J'\u001b[0m\u001b[0;34m,\u001b[0m\u001b[0mnp\u001b[0m\u001b[0;34m.\u001b[0m\u001b[0mfloat\u001b[0m\u001b[0;34m)\u001b[0m\u001b[0;34m,\u001b[0m\u001b[0;34m(\u001b[0m\u001b[0;34m'J-H'\u001b[0m\u001b[0;34m,\u001b[0m\u001b[0mnp\u001b[0m\u001b[0;34m.\u001b[0m\u001b[0mfloat\u001b[0m\u001b[0;34m)\u001b[0m\u001b[0;34m,\u001b[0m\u001b[0;34m(\u001b[0m\u001b[0;34m'H-K'\u001b[0m\u001b[0;34m,\u001b[0m\u001b[0mnp\u001b[0m\u001b[0;34m.\u001b[0m\u001b[0mfloat\u001b[0m\u001b[0;34m)\u001b[0m\u001b[0;34m,\u001b[0m\u001b[0;34m(\u001b[0m\u001b[0;34m'Jmag_abs'\u001b[0m\u001b[0;34m,\u001b[0m\u001b[0mnp\u001b[0m\u001b[0;34m.\u001b[0m\u001b[0mfloat\u001b[0m\u001b[0;34m)\u001b[0m\u001b[0;34m]\u001b[0m\u001b[0;34m)\u001b[0m\u001b[0;34m\u001b[0m\u001b[0m\n\u001b[0m\u001b[1;32m      3\u001b[0m \u001b[0mspec_class\u001b[0m\u001b[0;34m=\u001b[0m\u001b[0;34m[\u001b[0m\u001b[0mx\u001b[0m\u001b[0;34m.\u001b[0m\u001b[0mstrip\u001b[0m\u001b[0;34m(\u001b[0m\u001b[0;34m' '\u001b[0m\u001b[0;34m)\u001b[0m \u001b[0;32mfor\u001b[0m \u001b[0mx\u001b[0m \u001b[0;32min\u001b[0m \u001b[0mspec_class\u001b[0m\u001b[0;34m]\u001b[0m\u001b[0;34m\u001b[0m\u001b[0m\n\u001b[1;32m      4\u001b[0m \u001b[0mlum_class\u001b[0m\u001b[0;34m=\u001b[0m\u001b[0;34m[\u001b[0m\u001b[0mx\u001b[0m\u001b[0;34m.\u001b[0m\u001b[0mstrip\u001b[0m\u001b[0;34m(\u001b[0m\u001b[0;34m' '\u001b[0m\u001b[0;34m)\u001b[0m \u001b[0;32mfor\u001b[0m \u001b[0mx\u001b[0m \u001b[0;32min\u001b[0m \u001b[0mlum_class\u001b[0m\u001b[0;34m]\u001b[0m\u001b[0;34m\u001b[0m\u001b[0m\n\u001b[1;32m      5\u001b[0m \u001b[0;34m\u001b[0m\u001b[0m\n",
      "\u001b[0;31mNameError\u001b[0m: name 'np' is not defined"
     ]
    }
   ],
   "source": [
    "\n",
    "spec_class,lum_class,ug,gr,ri,iz,zJ,JH,HK,Jmag_abs=np.loadtxt('share/cross_match/union/spectralclasses_padded.csv',skiprows=49,delimiter=',',unpack=True,dtype=[('spec_class','S4'),('lum_class','S3'),('u-g',np.float),('g-r',np.float),('r-i',np.float),('i-z',np.float),('z-J',np.float),('J-H',np.float),('H-K',np.float),('Jmag_abs',np.float)])\n",
    "spec_class=[x.strip(' ') for x in spec_class]\n",
    "lum_class=[x.strip(' ') for x in lum_class]\n",
    "\n",
    "\n",
    "lum_class_I=[i for i,x in enumerate(lum_class) if x=='I']\n",
    "lum_class_III=[i for i,x in enumerate(lum_class) if x=='III']\n",
    "lum_class_V=[i for i,x in enumerate(lum_class) if x=='V']\n",
    "\n",
    "spec_class_I=[x for i,x in enumerate(spec_class) if i in lum_class_I]\n",
    "spec_class_III=[x for i,x in enumerate(spec_class) if i in lum_class_III]\n",
    "spec_class_V=[x for i,x in enumerate(spec_class) if i in lum_class_V]\n",
    "\n",
    "\n",
    "def f7(seq):\n",
    "    seen = set()\n",
    "    seen_add = seen.add\n",
    "    return [x for x in seq if not (x in seen or seen_add(x))]\n",
    "\n",
    "lumspecs={'I':f7(spec_class_I)}#,'III':f7(spec_class_I),'V':f7(spec_class_I)}\n",
    "for key, value in lumspecs.items(): value.append('None')\n",
    "#print(spec_class_V)\n",
    "#ID, lum, spec=[[x[i] for x in ID_lum_spec] for i in range(3)] \n",
    "#print(ID_lum_spec)\n",
    "figs={}\n",
    "for key,value in lumspecs.items():\n",
    "    list_o_tuples=[]\n",
    "    for item in ID_lum_spec:\n",
    "        if item[1]==key:\n",
    "            list_o_tuples.append(item)\n",
    "    figs[key] = figure(x_range=value, plot_height=250, title=key,toolbar_location=None, tools=\"\")\n",
    "    top=list()\n",
    "    for i,spec_class in enumerate(value):\n",
    "        top.append(0)\n",
    "        for tuple_ in list_o_tuples:\n",
    "            if tuple_[2]==spec_class: top[i]+=1\n",
    "    print(len(top),len(value))\n",
    "    figs[key].vbar(x=value, top=top, width=0.9)\n",
    "    figs[key].xgrid.grid_line_color = None\n",
    "print(top,lumspecs['I'])\n",
    "from bokeh.io import show, output_file\n",
    "from bokeh.plotting import figure\n",
    "\n",
    "output_file(\"bars.html\")\n",
    "\n",
    "fruits = ['Apples', 'Pears', 'Nectarines', 'Plums', 'Grapes', 'Strawberries']\n",
    "\n",
    "p = figure(x_range=fruits, plot_height=250, title=\"Fruit Counts\",\n",
    "           toolbar_location=None, tools=\"\")\n",
    "\n",
    "p.vbar(x=fruits, top=[5, 3, 4, 2, 4, 6], width=0.9)\n",
    "\n",
    "p.xgrid.grid_line_color = None\n",
    "p.y_range.start = 0\n",
    "\n",
    "show(p)"
   ]
  },
  {
   "cell_type": "markdown",
   "metadata": {},
   "source": [
    "# Appendix\n",
    "### This is a deprecated analysis version. Left here for later reference."
   ]
  },
  {
   "cell_type": "code",
   "execution_count": 38,
   "metadata": {
    "collapsed": false,
    "deletable": true,
    "editable": true
   },
   "outputs": [],
   "source": [
    "for key,value in param_dict.items():\n",
    "    \n",
    "    if len(value)==4:\n",
    "        c=value[3]\n",
    "    else:\n",
    "        value.append(dict())\n",
    "        c=value[3]\n",
    "    if value[1]=='jhkJ':\n",
    "        j,h,k,J=value[2]\n",
    "        insert_spec_class(c,lookup_spec,j,h,'jh')\n",
    "        insert_spec_class(c,lookup_spec,h,k,'hk')\n",
    "        insert_lum_class(c,lookup_spec,J,'J')\n",
    "        \n",
    "    elif value[1]=='grizyJ':\n",
    "        g,r,i,z,y,J=value[2]\n",
    "        insert_spec_class(c,lookup_spec,g,r,'gr')\n",
    "        insert_spec_class(c,lookup_spec,r,i,'ri')\n",
    "        insert_spec_class(c,lookup_spec,i,z,'iz')\n",
    "        insert_spec_class(c,lookup_spec,z,y,'zy')\n",
    "        insert_lum_class(c,lookup_spec,J,'J')\n",
    "\n",
    "    #print(key,c)\n",
    "#check with spectral class table. find value in ordered list\n",
    "#check distance with luminosity class using absolute Jmag_abs and J from param_dict\n",
    "#add color_index, spec_class to obj#bokeh barplot spectral classes"
   ]
  },
  {
   "cell_type": "markdown",
   "metadata": {},
   "source": [
    "# Plotting the flare frequency as a function of ED for by-hand analysis"
   ]
  },
  {
   "cell_type": "code",
   "execution_count": 1,
   "metadata": {
    "collapsed": true,
    "deletable": true,
    "editable": true
   },
   "outputs": [],
   "source": [
    "import numpy as np\n",
    "from scipy.integrate import trapz\n",
    "import matplotlib.pyplot as plt\n",
    "cluster='Ruprecht_147'"
   ]
  },
  {
   "cell_type": "code",
   "execution_count": 2,
   "metadata": {
    "collapsed": false,
    "deletable": true,
    "editable": true
   },
   "outputs": [],
   "source": [
    "\n",
    "objectid='219652181'\n",
    "t_start,t_stop,id_start,id_stop,comment=np.loadtxt('share/cross_match/union/'+cluster+'_post_appa/'+objectid+'_my_flares.txt',delimiter=',',unpack=True,dtype=[('t_start', np.float), ('t_stop', np.float), ('id_start', np.int), ('id_stop', np.int), ('comment', 'S32')])\n",
    "time,flux_gap,error,flux_model=np.loadtxt('share/cross_match/union/'+cluster+'_post_appa/'+objectid+'.txt',delimiter=',',unpack=True)\n",
    "istart, istop=np.loadtxt('share/cross_match/union/'+cluster+'_post_appa/'+objectid+'_flares.txt',delimiter=',',unpack=True,dtype=np.dtype(np.int16))\n"
   ]
  },
  {
   "cell_type": "code",
   "execution_count": 3,
   "metadata": {
    "collapsed": false,
    "deletable": true,
    "editable": true
   },
   "outputs": [],
   "source": [
    "def ED(start,stop,time,flux_model,flux_gap):\n",
    "    time=time[start:stop+1]\n",
    "    model=flux_model[start:stop+1]\n",
    "    flux=flux_gap[start:stop+1]\n",
    "    residual=np.subtract(flux,model)\n",
    "    flare=trapz(residual,time)\n",
    "    quiet=trapz(model,time)\n",
    "    ed=flare/quiet\n",
    "    return ed\n"
   ]
  },
  {
   "cell_type": "code",
   "execution_count": 4,
   "metadata": {
    "collapsed": false,
    "deletable": true,
    "editable": true
   },
   "outputs": [],
   "source": [
    "myED=[]\n",
    "\n",
    "for start, stop in zip(id_start,id_stop):\n",
    "    ed=ED(start,stop,time,flux_model,flux_gap)\n",
    "    myED.append(ed)\n",
    "\n",
    "    \n",
    "AppaED=[]\n",
    "\n",
    "for start, stop in zip(istart,istop):\n",
    "    ed=ED(start,stop,time,flux_model,flux_gap)\n",
    "    AppaED.append(ed)\n",
    "\n"
   ]
  },
  {
   "cell_type": "code",
   "execution_count": 5,
   "metadata": {
    "collapsed": false,
    "deletable": true,
    "editable": true,
    "scrolled": true
   },
   "outputs": [
    {
     "data": {
      "image/png": "[encoded data removed]",
      "text/plain": [
       "<matplotlib.figure.Figure at 0x7f72bb753590>"
      ]
     },
     "metadata": {},
     "output_type": "display_data"
    }
   ],
   "source": [
    "\n",
    "plt.figure()\n",
    "plt.title('EPIC '+objectid)\n",
    "plt.hist(myED,len(myED)//5,alpha=0.8,color='red',label='By hand analysis')\n",
    "plt.hist(AppaED,len(AppaED)//1,alpha=0.8,label='Appaloosa results')\n",
    "plt.legend()\n",
    "plt.xlabel('ED in days')\n",
    "plt.show()\n",
    "#plt.savefig('results/'+objectid+'_byhand_vs_Appaloosa.png')"
   ]
  },
  {
   "cell_type": "code",
   "execution_count": null,
   "metadata": {
    "collapsed": true,
    "deletable": true,
    "editable": true
   },
   "outputs": [],
   "source": []
  }
 ],
 "metadata": {
  "kernelspec": {
   "display_name": "Python 2",
   "language": "python",
   "name": "python2"
  },
  "language_info": {
   "codemirror_mode": {
    "name": "ipython",
    "version": 2
   },
   "file_extension": ".py",
   "mimetype": "text/x-python",
   "name": "python",
   "nbconvert_exporter": "python",
   "pygments_lexer": "ipython2",
   "version": "2.7.12"
  }
 },
 "nbformat": 4,
 "nbformat_minor": 2
}
