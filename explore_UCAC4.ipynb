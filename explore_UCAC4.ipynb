{
 "cells": [
  {
   "cell_type": "code",
   "execution_count": 125,
   "metadata": {
    "collapsed": true,
    "deletable": true,
    "editable": true
   },
   "outputs": [],
   "source": [
    "#matching (K2/2MASS) + UCAC4(=Sampedro)\n",
    "import catalog_match as cm\n",
    "import os\n",
    "import sys\n",
    "import numpy as np\n"
   ]
  },
  {
   "cell_type": "code",
   "execution_count": 126,
   "metadata": {
    "collapsed": false,
    "deletable": true,
    "editable": true
   },
   "outputs": [
    {
     "name": "stdout",
     "output_type": "stream",
     "text": [
      "['508-049159', '508-049161', '508-049164', '508-049170', '508-049171', '508-049173', '508-049174', '508-049178', '508-049180', '508-049181']\n"
     ]
    }
   ],
   "source": [
    "#x.loadcatalog('/home/ekaterina/Documents/Matching_Catalogs','_Sampedro_cluster_members_query.csv',(2,22),',', 1,[('UCAC4','U10'),('2MASSYN','U10')],debug=False)\n",
    "dt=np.dtype(np.float64)\n",
    "dtstr=np.dtype(np.unicode_, 10)\n",
    "cat=np.genfromtxt('/home/ekaterina/Documents/Matching_Catalogs/cats/M67_Sampedro_cluster_members_query.csv' ,usecols=(2,22),delimiter='\\t', skip_header=1,dtype=[('UCAC4','U10'),('2MASSYN',dt)])\n",
    "samp_twomassyn=cat['2MASSYN'].tolist()\n",
    "samp_twomassyn = [str(r) for r in samp_twomassyn]\n",
    "samp_ucac4=cat['UCAC4'].tolist()\n",
    "samp_ucac4 = [str(r) for r in samp_ucac4]\n",
    "print(samp_ucac4[:10])\n",
    "indices = [i for i, x in enumerate(samp_twomassyn) if x == -9999.99]\n",
    "samp_twomassyn_with_ucac4=[i for j, i in enumerate(samp_twomassyn) if j not in indices]\n",
    "ucac4_samp=[i for j, i in enumerate(samp_ucac4) if j not in indices]\n"
   ]
  },
  {
   "cell_type": "code",
   "execution_count": 127,
   "metadata": {
    "collapsed": false,
    "deletable": true,
    "editable": true
   },
   "outputs": [
    {
     "name": "stdout",
     "output_type": "stream",
     "text": [
      "752\n",
      "358\n",
      "358\n"
     ]
    }
   ],
   "source": [
    "k2=np.genfromtxt('/home/ekaterina/Documents/Matching_Catalogs/cats/M67_k2_search.txt' ,usecols=(19,20),delimiter='\\t', skip_header=2,dtype=[('UCAC4','U10'),('2MASS','U16')])\n",
    "\n",
    "twomass_k2=k2['2MASS'].tolist()\n",
    "twomass_k2 = [str(r) for r in twomass_k2]\n",
    "ucac4_k2=k2['UCAC4'].tolist()\n",
    "ucac4_k2 = [str(r) for r in ucac4_k2]\n",
    "print(len(ucac4_k2))\n",
    "\n",
    "indices = [i for i, x in enumerate(ucac4_k2) if x == '']\n",
    "ucac4_k2=[i for j, i in enumerate(ucac4_k2) if j not in indices]\n",
    "twomass_k2=[i for j, i in enumerate(twomass_k2) if j not in indices]\n",
    "print(len(ucac4_k2))#habe ucac4 id\n",
    "indices = [i for i, x in enumerate(twomass_k2) if x == '']\n",
    "ucac4_k2=[i for j, i in enumerate(ucac4_k2) if j not in indices]\n",
    "twomass_k2=[i for j, i in enumerate(twomass_k2) if j not in indices]\n",
    "print(len(ucac4_k2))#habe ucac4 id und 2mass\n"
   ]
  },
  {
   "cell_type": "code",
   "execution_count": 128,
   "metadata": {
    "collapsed": false,
    "deletable": true,
    "editable": true
   },
   "outputs": [
    {
     "name": "stdout",
     "output_type": "stream",
     "text": [
      "158\n"
     ]
    }
   ],
   "source": [
    "\n",
    "before=len(ucac4_samp)\n",
    "#ucac4_k2=[1,4,5,7,9,2,3]\n",
    "#ucac4_samp=[6,5,4,8,11,1,0]\n",
    "match=[]\n",
    "for item in ucac4_k2:\n",
    "    if item in ucac4_samp:\n",
    "        match.append(item)\n",
    "        ucac4_samp.remove(item)\n",
    "print(before-len(ucac4_samp))"
   ]
  },
  {
   "cell_type": "code",
   "execution_count": 68,
   "metadata": {},
   "outputs": [
    {
     "data": {
      "text/html": [
       "<div>\n",
       "<style scoped>\n",
       "    .dataframe tbody tr th:only-of-type {\n",
       "        vertical-align: middle;\n",
       "    }\n",
       "\n",
       "    .dataframe tbody tr th {\n",
       "        vertical-align: top;\n",
       "    }\n",
       "\n",
       "    .dataframe thead th {\n",
       "        text-align: right;\n",
       "    }\n",
       "</style>\n",
       "<table border=\"1\" class=\"dataframe\">\n",
       "  <thead>\n",
       "    <tr style=\"text-align: right;\">\n",
       "      <th></th>\n",
       "      <th>EPIC</th>\n",
       "      <th>gmag</th>\n",
       "      <th>rmag</th>\n",
       "      <th>imag</th>\n",
       "      <th>zmag</th>\n",
       "      <th>ymag</th>\n",
       "      <th>J</th>\n",
       "      <th>H</th>\n",
       "      <th>K</th>\n",
       "      <th>RAJ2000</th>\n",
       "      <th>DEJ2000</th>\n",
       "    </tr>\n",
       "  </thead>\n",
       "  <tbody>\n",
       "    <tr>\n",
       "      <th>0</th>\n",
       "      <td>247113403</td>\n",
       "      <td>16.763</td>\n",
       "      <td>15.729</td>\n",
       "      <td>15.370</td>\n",
       "      <td>15.1762</td>\n",
       "      <td>15.0083</td>\n",
       "      <td>13.946</td>\n",
       "      <td>13.479</td>\n",
       "      <td>13.436</td>\n",
       "      <td>71.3571</td>\n",
       "      <td>18.7975</td>\n",
       "    </tr>\n",
       "    <tr>\n",
       "      <th>1</th>\n",
       "      <td>247112847</td>\n",
       "      <td>NaN</td>\n",
       "      <td>NaN</td>\n",
       "      <td>NaN</td>\n",
       "      <td>15.8890</td>\n",
       "      <td>15.6921</td>\n",
       "      <td>14.477</td>\n",
       "      <td>13.869</td>\n",
       "      <td>13.668</td>\n",
       "      <td>71.4222</td>\n",
       "      <td>18.7922</td>\n",
       "    </tr>\n",
       "    <tr>\n",
       "      <th>2</th>\n",
       "      <td>247111108</td>\n",
       "      <td>NaN</td>\n",
       "      <td>NaN</td>\n",
       "      <td>NaN</td>\n",
       "      <td>15.4767</td>\n",
       "      <td>15.2543</td>\n",
       "      <td>14.054</td>\n",
       "      <td>13.439</td>\n",
       "      <td>13.215</td>\n",
       "      <td>71.4537</td>\n",
       "      <td>18.7758</td>\n",
       "    </tr>\n",
       "    <tr>\n",
       "      <th>3</th>\n",
       "      <td>247113519</td>\n",
       "      <td>16.412</td>\n",
       "      <td>15.310</td>\n",
       "      <td>14.926</td>\n",
       "      <td>14.6765</td>\n",
       "      <td>14.5298</td>\n",
       "      <td>13.479</td>\n",
       "      <td>13.004</td>\n",
       "      <td>12.797</td>\n",
       "      <td>71.4595</td>\n",
       "      <td>18.7986</td>\n",
       "    </tr>\n",
       "    <tr>\n",
       "      <th>4</th>\n",
       "      <td>247113466</td>\n",
       "      <td>NaN</td>\n",
       "      <td>NaN</td>\n",
       "      <td>NaN</td>\n",
       "      <td>14.5751</td>\n",
       "      <td>14.4431</td>\n",
       "      <td>13.394</td>\n",
       "      <td>13.005</td>\n",
       "      <td>12.868</td>\n",
       "      <td>71.4712</td>\n",
       "      <td>18.7980</td>\n",
       "    </tr>\n",
       "  </tbody>\n",
       "</table>\n",
       "</div>"
      ],
      "text/plain": [
       "        EPIC    gmag    rmag    imag     zmag     ymag       J       H  \\\n",
       "0  247113403  16.763  15.729  15.370  15.1762  15.0083  13.946  13.479   \n",
       "1  247112847     NaN     NaN     NaN  15.8890  15.6921  14.477  13.869   \n",
       "2  247111108     NaN     NaN     NaN  15.4767  15.2543  14.054  13.439   \n",
       "3  247113519  16.412  15.310  14.926  14.6765  14.5298  13.479  13.004   \n",
       "4  247113466     NaN     NaN     NaN  14.5751  14.4431  13.394  13.005   \n",
       "\n",
       "        K  RAJ2000  DEJ2000  \n",
       "0  13.436  71.3571  18.7975  \n",
       "1  13.668  71.4222  18.7922  \n",
       "2  13.215  71.4537  18.7758  \n",
       "3  12.797  71.4595  18.7986  \n",
       "4  12.868  71.4712  18.7980  "
      ]
     },
     "execution_count": 68,
     "metadata": {},
     "output_type": "execute_result"
    }
   ],
   "source": [
    "import pandas as pd\n",
    "df = pd.read_csv('/home/ekaterina/Documents/Matching_Catalogs/cats/K2EPIC_Sampedro_PanSTARRS.csv')\n",
    "                # names=['UCAC4','DEJ2000','RAJ2000','angDist1','angDist2',]),\n",
    "\n",
    "df = df[(df['angDist.1'] < 0.5) & (df.angDist < 0.5)]\n",
    "\n",
    "df = df[(df.P_M1 > 0.8) & (df.P_M2_join > 0.8) & (df.P_M2_kinem > 0.8) & (df.P_M3 > 0.8) ]\n",
    "\n",
    "grouped = df.groupby('UCAC4')\n",
    "df = df[df.angDist.isin(grouped.angDist.min().values)] \n",
    "\n",
    "sel = df[['id','gmag.1','rmag.1','imag.1','zmag.1','ymag','Jmag','Hmag','Kmag','RAJ2000','DEJ2000']]\n",
    "sel = sel.rename(index=str, columns={'id':'EPIC','gmag.1':'gmag','rmag.1':'rmag','imag.1':'imag','zmag.1':'zmag','Jmag':'J',\n",
    "                  'Hmag':'H','Kmag':'K'})\n",
    "sel.head()"
   ]
  },
  {
   "cell_type": "code",
   "execution_count": 70,
   "metadata": {},
   "outputs": [],
   "source": [
    "cluster = 'NGC_1647'\n",
    "sel.to_csv('share/{0}/{0}_parameter.csv'.format(cluster))"
   ]
  },
  {
   "cell_type": "code",
   "execution_count": null,
   "metadata": {},
   "outputs": [],
   "source": [
    "0"
   ]
  }
 ],
 "metadata": {
  "kernelspec": {
   "display_name": "VPython",
   "language": "python",
   "name": "vpython"
  },
  "language_info": {
   "codemirror_mode": {
    "name": "ipython",
    "version": 3
   },
   "file_extension": ".py",
   "mimetype": "text/x-python",
   "name": "python",
   "nbconvert_exporter": "python",
   "pygments_lexer": "ipython3",
   "version": "3.5.2"
  }
 },
 "nbformat": 4,
 "nbformat_minor": 2
}
