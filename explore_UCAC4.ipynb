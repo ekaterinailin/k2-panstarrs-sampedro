{
 "cells": [
  {
   "cell_type": "code",
   "execution_count": 125,
   "metadata": {
    "collapsed": true,
    "deletable": true,
    "editable": true
   },
   "outputs": [],
   "source": [
    "#matching (K2/2MASS) + UCAC4(=Sampedro)\n",
    "import catalog_match as cm\n",
    "import os\n",
    "import sys\n",
    "import numpy as np\n"
   ]
  },
  {
   "cell_type": "code",
   "execution_count": 126,
   "metadata": {
    "collapsed": false,
    "deletable": true,
    "editable": true
   },
   "outputs": [
    {
     "name": "stdout",
     "output_type": "stream",
     "text": [
      "['508-049159', '508-049161', '508-049164', '508-049170', '508-049171', '508-049173', '508-049174', '508-049178', '508-049180', '508-049181']\n"
     ]
    }
   ],
   "source": [
    "#x.loadcatalog('/home/ekaterina/Documents/Matching_Catalogs','_Sampedro_cluster_members_query.csv',(2,22),',', 1,[('UCAC4','U10'),('2MASSYN','U10')],debug=False)\n",
    "dt=np.dtype(np.float64)\n",
    "dtstr=np.dtype(np.unicode_, 10)\n",
    "cat=np.genfromtxt('/home/ekaterina/Documents/Matching_Catalogs/cats/M67_Sampedro_cluster_members_query.csv' ,usecols=(2,22),delimiter='\\t', skip_header=1,dtype=[('UCAC4','U10'),('2MASSYN',dt)])\n",
    "samp_twomassyn=cat['2MASSYN'].tolist()\n",
    "samp_twomassyn = [str(r) for r in samp_twomassyn]\n",
    "samp_ucac4=cat['UCAC4'].tolist()\n",
    "samp_ucac4 = [str(r) for r in samp_ucac4]\n",
    "print(samp_ucac4[:10])\n",
    "indices = [i for i, x in enumerate(samp_twomassyn) if x == -9999.99]\n",
    "samp_twomassyn_with_ucac4=[i for j, i in enumerate(samp_twomassyn) if j not in indices]\n",
    "ucac4_samp=[i for j, i in enumerate(samp_ucac4) if j not in indices]\n"
   ]
  },
  {
   "cell_type": "code",
   "execution_count": 127,
   "metadata": {
    "collapsed": false,
    "deletable": true,
    "editable": true
   },
   "outputs": [
    {
     "name": "stdout",
     "output_type": "stream",
     "text": [
      "752\n",
      "358\n",
      "358\n"
     ]
    }
   ],
   "source": [
    "k2=np.genfromtxt('/home/ekaterina/Documents/Matching_Catalogs/cats/M67_k2_search.txt' ,usecols=(19,20),delimiter='\\t', skip_header=2,dtype=[('UCAC4','U10'),('2MASS','U16')])\n",
    "\n",
    "twomass_k2=k2['2MASS'].tolist()\n",
    "twomass_k2 = [str(r) for r in twomass_k2]\n",
    "ucac4_k2=k2['UCAC4'].tolist()\n",
    "ucac4_k2 = [str(r) for r in ucac4_k2]\n",
    "print(len(ucac4_k2))\n",
    "\n",
    "indices = [i for i, x in enumerate(ucac4_k2) if x == '']\n",
    "ucac4_k2=[i for j, i in enumerate(ucac4_k2) if j not in indices]\n",
    "twomass_k2=[i for j, i in enumerate(twomass_k2) if j not in indices]\n",
    "print(len(ucac4_k2))#habe ucac4 id\n",
    "indices = [i for i, x in enumerate(twomass_k2) if x == '']\n",
    "ucac4_k2=[i for j, i in enumerate(ucac4_k2) if j not in indices]\n",
    "twomass_k2=[i for j, i in enumerate(twomass_k2) if j not in indices]\n",
    "print(len(ucac4_k2))#habe ucac4 id und 2mass\n"
   ]
  },
  {
   "cell_type": "code",
   "execution_count": 128,
   "metadata": {
    "collapsed": false,
    "deletable": true,
    "editable": true
   },
   "outputs": [
    {
     "name": "stdout",
     "output_type": "stream",
     "text": [
      "158\n"
     ]
    }
   ],
   "source": [
    "\n",
    "before=len(ucac4_samp)\n",
    "#ucac4_k2=[1,4,5,7,9,2,3]\n",
    "#ucac4_samp=[6,5,4,8,11,1,0]\n",
    "match=[]\n",
    "for item in ucac4_k2:\n",
    "    if item in ucac4_samp:\n",
    "        match.append(item)\n",
    "        ucac4_samp.remove(item)\n",
    "print(before-len(ucac4_samp))"
   ]
  },
  {
   "cell_type": "code",
   "execution_count": 15,
   "metadata": {},
   "outputs": [
    {
     "data": {
      "text/html": [
       "<div>\n",
       "<style scoped>\n",
       "    .dataframe tbody tr th:only-of-type {\n",
       "        vertical-align: middle;\n",
       "    }\n",
       "\n",
       "    .dataframe tbody tr th {\n",
       "        vertical-align: top;\n",
       "    }\n",
       "\n",
       "    .dataframe thead th {\n",
       "        text-align: right;\n",
       "    }\n",
       "</style>\n",
       "<table border=\"1\" class=\"dataframe\">\n",
       "  <thead>\n",
       "    <tr style=\"text-align: right;\">\n",
       "      <th></th>\n",
       "      <th>EPIC</th>\n",
       "      <th>gmag</th>\n",
       "      <th>rmag</th>\n",
       "      <th>imag</th>\n",
       "      <th>zmag</th>\n",
       "      <th>ymag</th>\n",
       "      <th>J</th>\n",
       "      <th>H</th>\n",
       "      <th>K</th>\n",
       "      <th>RAJ2000</th>\n",
       "      <th>DEJ2000</th>\n",
       "    </tr>\n",
       "  </thead>\n",
       "  <tbody>\n",
       "    <tr>\n",
       "      <th>count</th>\n",
       "      <td>2.430000e+03</td>\n",
       "      <td>1502.000000</td>\n",
       "      <td>1397.000000</td>\n",
       "      <td>1397.000000</td>\n",
       "      <td>2424.000000</td>\n",
       "      <td>2428.000000</td>\n",
       "      <td>2430.000000</td>\n",
       "      <td>2430.000000</td>\n",
       "      <td>2430.000000</td>\n",
       "      <td>2430.000000</td>\n",
       "      <td>2430.000000</td>\n",
       "    </tr>\n",
       "    <tr>\n",
       "      <th>mean</th>\n",
       "      <td>2.110765e+08</td>\n",
       "      <td>15.247168</td>\n",
       "      <td>14.460329</td>\n",
       "      <td>14.149550</td>\n",
       "      <td>14.772512</td>\n",
       "      <td>14.667777</td>\n",
       "      <td>5.425516</td>\n",
       "      <td>4.988449</td>\n",
       "      <td>4.882438</td>\n",
       "      <td>56.828296</td>\n",
       "      <td>24.192719</td>\n",
       "    </tr>\n",
       "    <tr>\n",
       "      <th>std</th>\n",
       "      <td>3.153322e+04</td>\n",
       "      <td>1.254173</td>\n",
       "      <td>1.273994</td>\n",
       "      <td>1.319627</td>\n",
       "      <td>1.340011</td>\n",
       "      <td>1.359611</td>\n",
       "      <td>287.223839</td>\n",
       "      <td>287.211461</td>\n",
       "      <td>287.208500</td>\n",
       "      <td>0.561456</td>\n",
       "      <td>0.503915</td>\n",
       "    </tr>\n",
       "    <tr>\n",
       "      <th>min</th>\n",
       "      <td>2.110090e+08</td>\n",
       "      <td>9.734000</td>\n",
       "      <td>8.975000</td>\n",
       "      <td>7.973000</td>\n",
       "      <td>7.203000</td>\n",
       "      <td>6.966000</td>\n",
       "      <td>-9999.990000</td>\n",
       "      <td>-9999.990000</td>\n",
       "      <td>-9999.990000</td>\n",
       "      <td>55.647700</td>\n",
       "      <td>23.117200</td>\n",
       "    </tr>\n",
       "    <tr>\n",
       "      <th>25%</th>\n",
       "      <td>2.110520e+08</td>\n",
       "      <td>14.616000</td>\n",
       "      <td>13.837000</td>\n",
       "      <td>13.516000</td>\n",
       "      <td>14.144475</td>\n",
       "      <td>14.046675</td>\n",
       "      <td>13.063500</td>\n",
       "      <td>12.636500</td>\n",
       "      <td>12.529500</td>\n",
       "      <td>56.364375</td>\n",
       "      <td>23.807400</td>\n",
       "    </tr>\n",
       "    <tr>\n",
       "      <th>50%</th>\n",
       "      <td>2.110793e+08</td>\n",
       "      <td>15.533000</td>\n",
       "      <td>14.750000</td>\n",
       "      <td>14.447000</td>\n",
       "      <td>15.126550</td>\n",
       "      <td>15.024950</td>\n",
       "      <td>14.021000</td>\n",
       "      <td>13.539500</td>\n",
       "      <td>13.437500</td>\n",
       "      <td>56.888350</td>\n",
       "      <td>24.239500</td>\n",
       "    </tr>\n",
       "    <tr>\n",
       "      <th>75%</th>\n",
       "      <td>2.111024e+08</td>\n",
       "      <td>16.188000</td>\n",
       "      <td>15.404000</td>\n",
       "      <td>15.111000</td>\n",
       "      <td>15.705075</td>\n",
       "      <td>15.602025</td>\n",
       "      <td>14.637000</td>\n",
       "      <td>14.196750</td>\n",
       "      <td>14.112000</td>\n",
       "      <td>57.277975</td>\n",
       "      <td>24.600850</td>\n",
       "    </tr>\n",
       "    <tr>\n",
       "      <th>max</th>\n",
       "      <td>2.111330e+08</td>\n",
       "      <td>17.379000</td>\n",
       "      <td>16.382000</td>\n",
       "      <td>16.221000</td>\n",
       "      <td>17.189400</td>\n",
       "      <td>17.137900</td>\n",
       "      <td>16.354000</td>\n",
       "      <td>15.977000</td>\n",
       "      <td>15.852000</td>\n",
       "      <td>57.850700</td>\n",
       "      <td>25.119900</td>\n",
       "    </tr>\n",
       "  </tbody>\n",
       "</table>\n",
       "</div>"
      ],
      "text/plain": [
       "               EPIC         gmag         rmag         imag         zmag  \\\n",
       "count  2.430000e+03  1502.000000  1397.000000  1397.000000  2424.000000   \n",
       "mean   2.110765e+08    15.247168    14.460329    14.149550    14.772512   \n",
       "std    3.153322e+04     1.254173     1.273994     1.319627     1.340011   \n",
       "min    2.110090e+08     9.734000     8.975000     7.973000     7.203000   \n",
       "25%    2.110520e+08    14.616000    13.837000    13.516000    14.144475   \n",
       "50%    2.110793e+08    15.533000    14.750000    14.447000    15.126550   \n",
       "75%    2.111024e+08    16.188000    15.404000    15.111000    15.705075   \n",
       "max    2.111330e+08    17.379000    16.382000    16.221000    17.189400   \n",
       "\n",
       "              ymag            J            H            K      RAJ2000  \\\n",
       "count  2428.000000  2430.000000  2430.000000  2430.000000  2430.000000   \n",
       "mean     14.667777     5.425516     4.988449     4.882438    56.828296   \n",
       "std       1.359611   287.223839   287.211461   287.208500     0.561456   \n",
       "min       6.966000 -9999.990000 -9999.990000 -9999.990000    55.647700   \n",
       "25%      14.046675    13.063500    12.636500    12.529500    56.364375   \n",
       "50%      15.024950    14.021000    13.539500    13.437500    56.888350   \n",
       "75%      15.602025    14.637000    14.196750    14.112000    57.277975   \n",
       "max      17.137900    16.354000    15.977000    15.852000    57.850700   \n",
       "\n",
       "           DEJ2000  \n",
       "count  2430.000000  \n",
       "mean     24.192719  \n",
       "std       0.503915  \n",
       "min      23.117200  \n",
       "25%      23.807400  \n",
       "50%      24.239500  \n",
       "75%      24.600850  \n",
       "max      25.119900  "
      ]
     },
     "execution_count": 15,
     "metadata": {},
     "output_type": "execute_result"
    }
   ],
   "source": [
    "import pandas as pd\n",
    "NGC1647 = '/home/ekaterina/Documents/Matching_Catalogs/cats/K2EPIC_Sampedro_PanSTARRS.csv'\n",
    "M67 = '/home/ekaterina/Documents/appaloosa/stars_shortlist/M67/M67_Sampedro_EPIC_PanSTARRS.csv'\n",
    "M44 = '/home/ekaterina/Documents/appaloosa/stars_shortlist/M44/M44_Sampedro_EPIC_PanSTARRS.csv'\n",
    "Ruprecht = '/home/ekaterina/Documents/appaloosa/stars_shortlist/Ruprecht_147/Ruprecht_147_Sampedro_EPIC_PanSTARRS.csv'\n",
    "NGC1817 = '/home/ekaterina/Documents/appaloosa/stars_shortlist/NGC_1817/NGC_1817_Sampedro_EPIC_PanSTARRS.csv'\n",
    "Pleiades = '/home/ekaterina/Documents/appaloosa/stars_shortlist/Pleiades/Pleiades_Sampedro_EPIC_PanSTARRS.csv'\n",
    "\n",
    "df = pd.read_csv(Pleiades)\n",
    "                # names=['UCAC4','DEJ2000','RAJ2000','angDist1','angDist2',]),\n",
    "\n",
    "d = 0.5 #arcsec\n",
    "df = df[(df['angDist.1'] < d) & (df.angDist < d)]\n",
    "\n",
    "p = 0.8\n",
    "#df = df[(df.P_M3 > p)]\n",
    "#[(df.P_M1 > p)] & \n",
    "#print(df.angDist[(df.P_M3 > p)].describe())# &\n",
    "#print(df.angDist[(df.P_M2_join > p)].describe())\n",
    "#print(df.angDist[(df.P_M2_kinem > p)].describe())\n",
    "#print(df.angDist[(df.P_M1 > p)].describe())\n",
    "df = df[(df.P_M2_join > p) & (df.P_M2_kinem > p)  & (df.P_M3 > p)]\n",
    "grouped = df.groupby('UCAC4')\n",
    "df = df[df.angDist.isin(grouped.angDist.min().values)] \n",
    "\n",
    "sel = df[['id','gmag.1','rmag.1','imag.1','zmag.1','ymag','Jmag','Hmag','Kmag','RAJ2000','DEJ2000']]\n",
    "sel = sel.rename(index=str, columns={'id':'EPIC','gmag.1':'gmag','rmag.1':'rmag','imag.1':'imag','zmag.1':'zmag','Jmag':'J',\n",
    "                  'Hmag':'H','Kmag':'K'})\n",
    "sel.describe()"
   ]
  },
  {
   "cell_type": "code",
   "execution_count": 18,
   "metadata": {},
   "outputs": [],
   "source": [
    "cluster = 'Pleiades'\n",
    "sel.to_csv('share/{0}/{0}_parameter.csv'.format(cluster))"
   ]
  },
  {
   "cell_type": "code",
   "execution_count": null,
   "metadata": {},
   "outputs": [],
   "source": [
    "0"
   ]
  }
 ],
 "metadata": {
  "kernelspec": {
   "display_name": "VPython",
   "language": "python",
   "name": "vpython"
  },
  "language_info": {
   "codemirror_mode": {
    "name": "ipython",
    "version": 3
   },
   "file_extension": ".py",
   "mimetype": "text/x-python",
   "name": "python",
   "nbconvert_exporter": "python",
   "pygments_lexer": "ipython3",
   "version": "3.5.2"
  }
 },
 "nbformat": 4,
 "nbformat_minor": 2
}
