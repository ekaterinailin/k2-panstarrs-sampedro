{
 "cells": [
  {
   "cell_type": "code",
   "execution_count": 125,
   "metadata": {},
   "outputs": [],
   "source": [
    "#matching (K2/2MASS) + UCAC4(=Sampedro)\n",
    "import catalog_match as cm\n",
    "import os\n",
    "import sys\n",
    "import numpy as np\n"
   ]
  },
  {
   "cell_type": "code",
   "execution_count": 126,
   "metadata": {},
   "outputs": [
    {
     "name": "stdout",
     "output_type": "stream",
     "text": [
      "['508-049159', '508-049161', '508-049164', '508-049170', '508-049171', '508-049173', '508-049174', '508-049178', '508-049180', '508-049181']\n"
     ]
    }
   ],
   "source": [
    "#x.loadcatalog('/home/ekaterina/Documents/Matching_Catalogs','_Sampedro_cluster_members_query.csv',(2,22),',', 1,[('UCAC4','U10'),('2MASSYN','U10')],debug=False)\n",
    "dt=np.dtype(np.float64)\n",
    "dtstr=np.dtype(np.unicode_, 10)\n",
    "cat=np.genfromtxt('/home/ekaterina/Documents/Matching_Catalogs/cats/M67_Sampedro_cluster_members_query.csv' ,usecols=(2,22),delimiter='\\t', skip_header=1,dtype=[('UCAC4','U10'),('2MASSYN',dt)])\n",
    "samp_twomassyn=cat['2MASSYN'].tolist()\n",
    "samp_twomassyn = [str(r) for r in samp_twomassyn]\n",
    "samp_ucac4=cat['UCAC4'].tolist()\n",
    "samp_ucac4 = [str(r) for r in samp_ucac4]\n",
    "print(samp_ucac4[:10])\n",
    "indices = [i for i, x in enumerate(samp_twomassyn) if x == -9999.99]\n",
    "samp_twomassyn_with_ucac4=[i for j, i in enumerate(samp_twomassyn) if j not in indices]\n",
    "ucac4_samp=[i for j, i in enumerate(samp_ucac4) if j not in indices]\n"
   ]
  },
  {
   "cell_type": "code",
   "execution_count": 127,
   "metadata": {},
   "outputs": [
    {
     "name": "stdout",
     "output_type": "stream",
     "text": [
      "752\n",
      "358\n",
      "358\n"
     ]
    }
   ],
   "source": [
    "k2=np.genfromtxt('/home/ekaterina/Documents/Matching_Catalogs/cats/M67_k2_search.txt' ,usecols=(19,20),delimiter='\\t', skip_header=2,dtype=[('UCAC4','U10'),('2MASS','U16')])\n",
    "\n",
    "twomass_k2=k2['2MASS'].tolist()\n",
    "twomass_k2 = [str(r) for r in twomass_k2]\n",
    "ucac4_k2=k2['UCAC4'].tolist()\n",
    "ucac4_k2 = [str(r) for r in ucac4_k2]\n",
    "print(len(ucac4_k2))\n",
    "\n",
    "indices = [i for i, x in enumerate(ucac4_k2) if x == '']\n",
    "ucac4_k2=[i for j, i in enumerate(ucac4_k2) if j not in indices]\n",
    "twomass_k2=[i for j, i in enumerate(twomass_k2) if j not in indices]\n",
    "print(len(ucac4_k2))#habe ucac4 id\n",
    "indices = [i for i, x in enumerate(twomass_k2) if x == '']\n",
    "ucac4_k2=[i for j, i in enumerate(ucac4_k2) if j not in indices]\n",
    "twomass_k2=[i for j, i in enumerate(twomass_k2) if j not in indices]\n",
    "print(len(ucac4_k2))#habe ucac4 id und 2mass\n"
   ]
  },
  {
   "cell_type": "code",
   "execution_count": 128,
   "metadata": {},
   "outputs": [
    {
     "name": "stdout",
     "output_type": "stream",
     "text": [
      "158\n"
     ]
    }
   ],
   "source": [
    "\n",
    "before=len(ucac4_samp)\n",
    "#ucac4_k2=[1,4,5,7,9,2,3]\n",
    "#ucac4_samp=[6,5,4,8,11,1,0]\n",
    "match=[]\n",
    "for item in ucac4_k2:\n",
    "    if item in ucac4_samp:\n",
    "        match.append(item)\n",
    "        ucac4_samp.remove(item)\n",
    "print(before-len(ucac4_samp))"
   ]
  },
  {
   "cell_type": "code",
   "execution_count": null,
   "metadata": {
    "collapsed": true
   },
   "outputs": [],
   "source": []
  },
  {
   "cell_type": "code",
   "execution_count": null,
   "metadata": {
    "collapsed": true
   },
   "outputs": [],
   "source": []
  }
 ],
 "metadata": {
  "kernelspec": {
   "display_name": "Python 3.4",
   "language": "python",
   "name": "python_3.4"
  },
  "language_info": {
   "codemirror_mode": {
    "name": "ipython",
    "version": 3
   },
   "file_extension": ".py",
   "mimetype": "text/x-python",
   "name": "python",
   "nbconvert_exporter": "python",
   "pygments_lexer": "ipython3",
   "version": "3.4.6"
  }
 },
 "nbformat": 4,
 "nbformat_minor": 2
}
