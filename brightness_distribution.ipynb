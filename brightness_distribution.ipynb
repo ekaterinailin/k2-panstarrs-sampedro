{
 "cells": [
  {
   "cell_type": "code",
   "execution_count": 1,
   "metadata": {},
   "outputs": [
    {
     "ename": "IOError",
     "evalue": "[Errno 2] No such file or directory: 'share/panstarrs_match/M44_panstarrs_Jmag.txt'",
     "output_type": "error",
     "traceback": [
      "\u001b[0;31m---------------------------------------------------------------------------\u001b[0m",
      "\u001b[0;31mIOError\u001b[0m                                   Traceback (most recent call last)",
      "\u001b[0;32m<ipython-input-1-52902316efae>\u001b[0m in \u001b[0;36m<module>\u001b[0;34m()\u001b[0m\n\u001b[1;32m     14\u001b[0m \u001b[0;34m\u001b[0m\u001b[0m\n\u001b[1;32m     15\u001b[0m \u001b[0;32melse\u001b[0m\u001b[0;34m:\u001b[0m\u001b[0;34m\u001b[0m\u001b[0m\n\u001b[0;32m---> 16\u001b[0;31m     \u001b[0mps\u001b[0m \u001b[0;34m=\u001b[0m \u001b[0;34m[\u001b[0m\u001b[0mfloat\u001b[0m\u001b[0;34m(\u001b[0m\u001b[0mline\u001b[0m\u001b[0;34m.\u001b[0m\u001b[0mstrip\u001b[0m\u001b[0;34m(\u001b[0m\u001b[0;34m)\u001b[0m\u001b[0;34m)\u001b[0m \u001b[0;32mfor\u001b[0m \u001b[0mline\u001b[0m \u001b[0;32min\u001b[0m \u001b[0mopen\u001b[0m\u001b[0;34m(\u001b[0m\u001b[0;34m\"share/panstarrs_match/\"\u001b[0m \u001b[0;34m+\u001b[0m \u001b[0mcluster\u001b[0m \u001b[0;34m+\u001b[0m \u001b[0;34m\"_panstarrs_Jmag.txt\"\u001b[0m\u001b[0;34m,\u001b[0m \u001b[0;34m'r'\u001b[0m\u001b[0;34m)\u001b[0m\u001b[0;34m]\u001b[0m\u001b[0;34m\u001b[0m\u001b[0m\n\u001b[0m\u001b[1;32m     17\u001b[0m     \u001b[0mk2\u001b[0m \u001b[0;34m=\u001b[0m\u001b[0;34m[\u001b[0m\u001b[0mfloat\u001b[0m\u001b[0;34m(\u001b[0m\u001b[0mline\u001b[0m\u001b[0;34m.\u001b[0m\u001b[0mstrip\u001b[0m\u001b[0;34m(\u001b[0m\u001b[0;34m)\u001b[0m\u001b[0;34m)\u001b[0m \u001b[0;32mfor\u001b[0m \u001b[0mline\u001b[0m \u001b[0;32min\u001b[0m \u001b[0mopen\u001b[0m\u001b[0;34m(\u001b[0m\u001b[0;34m\"share/2mass_match/\"\u001b[0m \u001b[0;34m+\u001b[0m \u001b[0mcluster\u001b[0m \u001b[0;34m+\u001b[0m \u001b[0;34m\"_2mass_Jmag.txt\"\u001b[0m\u001b[0;34m,\u001b[0m \u001b[0;34m'r'\u001b[0m\u001b[0;34m)\u001b[0m\u001b[0;34m]\u001b[0m\u001b[0;34m\u001b[0m\u001b[0m\n\u001b[1;32m     18\u001b[0m \u001b[0;31m#print(k2)\u001b[0m\u001b[0;34m\u001b[0m\u001b[0;34m\u001b[0m\u001b[0m\n",
      "\u001b[0;31mIOError\u001b[0m: [Errno 2] No such file or directory: 'share/panstarrs_match/M44_panstarrs_Jmag.txt'"
     ]
    }
   ],
   "source": [
    "import numpy as np\n",
    "import scipy.special\n",
    "\n",
    "from bokeh.layouts import gridplot\n",
    "from bokeh.plotting import figure, show, output_file\n",
    "cluster='M44'\n",
    "name='M44'\n",
    "p1 = figure(title=name+\" brightness distribution\",tools=\"save\",\n",
    "            background_fill_color=\"#E8DDCB\")\n",
    "#Ruprecht147\n",
    "if name=='Ruprecht 147':\n",
    "    k2=[7.954,9.338,9.178,9.11,8.588,9.339,9.592,9.316,8.437,9.105,8.002,8.626]\n",
    "    ps=[12.2679,12.2762,11.673,13.1895,8.637,8.1895,8.3194,17.3112,13.1654,10.436,16.2758,12.831,13.0893,12.5339]\n",
    "\n",
    "else:\n",
    "    ps = [float(line.strip()) for line in open(\"share/panstarrs_match/\" + cluster + \"_panstarrs_Jmag.txt\", 'r')]\n",
    "    k2 =[float(line.strip()) for line in open(\"share/2mass_match/\" + cluster + \"_2mass_Jmag.txt\", 'r')]\n",
    "#print(k2)\n",
    "hist_k2, edges_k2= np.histogram(k2, density=True, bins=np.arange(7,18))\n",
    "hist_ps, edges_ps= np.histogram(ps, density=True, bins=np.arange(7,18))\n",
    "p1.quad(top=hist_k2, bottom=0, left=edges_k2[:-1], right=edges_k2[1:],\n",
    "        fill_color=\"#35bf37\", line_color=\"#35bf37\",alpha=0.7,legend='2MASS')\n",
    "p1.quad(top=hist_ps, bottom=0, left=edges_ps[:-1], alpha=0.7,right=edges_ps[1:],\n",
    "        fill_color=\"#ef32aa\", line_color=\"#ef32aa\",legend='Pan-STARRS')\n",
    "p1.legend.location = \"top_left\"\n",
    "p1.legend.background_fill_color = \"darkgrey\"\n",
    "p1.xaxis.axis_label = 'Jmag'\n",
    "p1.yaxis.axis_label = 'number of objects'\n",
    "\n",
    "show(p1)\n"
   ]
  },
  {
   "cell_type": "code",
   "execution_count": 28,
   "metadata": {},
   "outputs": [
    {
     "name": "stdout",
     "output_type": "stream",
     "text": [
      "/work1/eilin/data/CLUSTERS_01/k2-panstarrs-sampedro\n",
      "        EPIC results     T\n",
      "0  219599554      M1  3700\n",
      "1  219519432      K7  4070\n",
      "2  219716873      M4  3200\n",
      "3  219396051      G8  5490\n",
      "4  219810798      K7  4070 \n",
      "         EPIC  KEP_Mag KEP_Flag\n",
      "0  219622634    8.440       BV\n",
      "1  200062550      NaN      NaN\n",
      "2  200062557      NaN      NaN\n",
      "3  219605951   10.387      gri\n",
      "4  200062558      NaN      NaN\n"
     ]
    },
    {
     "data": {
      "text/plain": [
       "<matplotlib.axes._subplots.AxesSubplot at 0x7f9d00a18588>"
      ]
     },
     "execution_count": 28,
     "metadata": {},
     "output_type": "execute_result"
    },
    {
     "data": {
      "image/png": "[encoded data removed]",
      "text/plain": [
       "<matplotlib.figure.Figure at 0x7f9d00a26278>"
      ]
     },
     "metadata": {},
     "output_type": "display_data"
    }
   ],
   "source": [
    "import pandas as pd\n",
    "%cd /work1/eilin/data/CLUSTERS_01/k2-panstarrs-sampedro\n",
    "%matplotlib inline\n",
    "cluster='Ruprecht_147'\n",
    "name='Ruprecht_147'\n",
    "df = pd.read_csv(\"cats/\" + cluster + \"_k2_search.txt\",\n",
    "                 delimiter='\\t',\n",
    "                 header=0, \n",
    "                 usecols=['K2 ID','KEP Mag','Kep Flag'],\n",
    "                 skiprows=[1],\n",
    "                )\n",
    "df.rename(index=int,columns={'K2 ID' : 'EPIC','KEP Mag':'KEP_Mag','Kep Flag':'KEP_Flag'},inplace=True)\n",
    "df2 = pd.read_csv('cats/' + cluster + '_specs_T.csv')\n",
    "\n",
    "print(df2.head(),'\\n',df.head())\n",
    "\n",
    "df3 = df.merge(df2, how='inner', on='EPIC')\n",
    "\n",
    "df3.head()\n",
    "\n",
    "df3.plot(x='T',y='KEP_Mag' ,kind='scatter')"
   ]
  },
  {
   "cell_type": "code",
   "execution_count": null,
   "metadata": {
    "collapsed": true
   },
   "outputs": [],
   "source": []
  }
 ],
 "metadata": {
  "kernelspec": {
   "display_name": "Python 3.4",
   "language": "python",
   "name": "python_3.4"
  },
  "language_info": {
   "codemirror_mode": {
    "name": "ipython",
    "version": 3
   },
   "file_extension": ".py",
   "mimetype": "text/x-python",
   "name": "python",
   "nbconvert_exporter": "python",
   "pygments_lexer": "ipython3",
   "version": "3.4.6"
  }
 },
 "nbformat": 4,
 "nbformat_minor": 2
}
