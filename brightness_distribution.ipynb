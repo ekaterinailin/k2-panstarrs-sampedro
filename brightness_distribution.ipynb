{
 "cells": [
  {
   "cell_type": "code",
   "execution_count": 20,
   "metadata": {},
   "outputs": [],
   "source": [
    "import numpy as np\n",
    "import scipy.special\n",
    "\n",
    "from bokeh.layouts import gridplot\n",
    "from bokeh.plotting import figure, show, output_file\n",
    "cluster='M44'\n",
    "name='M44'\n",
    "p1 = figure(title=name+\" brightness distribution\",tools=\"save\",\n",
    "            background_fill_color=\"#E8DDCB\")\n",
    "#Ruprecht147\n",
    "if name=='Ruprecht 147':\n",
    "    k2=[7.954,9.338,9.178,9.11,8.588,9.339,9.592,9.316,8.437,9.105,8.002,8.626]\n",
    "    ps=[12.2679,12.2762,11.673,13.1895,8.637,8.1895,8.3194,17.3112,13.1654,10.436,16.2758,12.831,13.0893,12.5339]\n",
    "\n",
    "else:\n",
    "    ps = [float(line.strip()) for line in open(\"share/panstarrs_match/\" + cluster + \"_panstarrs_Jmag.txt\", 'r')]\n",
    "    k2 =[float(line.strip()) for line in open(\"share/2mass_match/\" + cluster + \"_2mass_Jmag.txt\", 'r')]\n",
    "#print(k2)\n",
    "hist_k2, edges_k2= np.histogram(k2, density=True, bins=np.arange(7,18))\n",
    "hist_ps, edges_ps= np.histogram(ps, density=True, bins=np.arange(7,18))\n",
    "p1.quad(top=hist_k2, bottom=0, left=edges_k2[:-1], right=edges_k2[1:],\n",
    "        fill_color=\"#35bf37\", line_color=\"#35bf37\",alpha=0.7,legend='2MASS')\n",
    "p1.quad(top=hist_ps, bottom=0, left=edges_ps[:-1], alpha=0.7,right=edges_ps[1:],\n",
    "        fill_color=\"#ef32aa\", line_color=\"#ef32aa\",legend='Pan-STARRS')\n",
    "p1.legend.location = \"top_left\"\n",
    "p1.legend.background_fill_color = \"darkgrey\"\n",
    "p1.xaxis.axis_label = 'Jmag'\n",
    "p1.yaxis.axis_label = 'number of objects'\n",
    "\n",
    "show(p1)\n"
   ]
  },
  {
   "cell_type": "code",
   "execution_count": null,
   "metadata": {},
   "outputs": [],
   "source": []
  },
  {
   "cell_type": "code",
   "execution_count": null,
   "metadata": {},
   "outputs": [],
   "source": []
  }
 ],
 "metadata": {
  "kernelspec": {
   "display_name": "Python 3.4",
   "language": "python",
   "name": "python_3.4"
  },
  "language_info": {
   "codemirror_mode": {
    "name": "ipython",
    "version": 3
   },
   "file_extension": ".py",
   "mimetype": "text/x-python",
   "name": "python",
   "nbconvert_exporter": "python",
   "pygments_lexer": "ipython3",
   "version": "3.4.6"
  }
 },
 "nbformat": 4,
 "nbformat_minor": 2
}
