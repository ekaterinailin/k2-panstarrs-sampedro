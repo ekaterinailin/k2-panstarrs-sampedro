{
 "cells": [
  {
   "cell_type": "code",
   "execution_count": 28,
   "metadata": {
    "collapsed": false
   },
   "outputs": [
    {
     "name": "stdout",
     "output_type": "stream",
     "text": [
      "122.516964255\n",
      "<FK5 Coordinate (equinox=J2000.000): (ra, dec) in deg\n",
      "    ( 129.729,  19.1983)>\n"
     ]
    },
    {
     "data": {
      "text/plain": [
       "<ICRS Coordinate: (ra, dec) in deg\n",
       "    ( 129.72899419,  19.19830587)>"
      ]
     },
     "execution_count": 28,
     "metadata": {},
     "output_type": "execute_result"
    }
   ],
   "source": [
    "\n",
    "from astropy.coordinates import ICRS, FK5, FK4, Galactic, Angle\n",
    "import astropy.units as u\n",
    "import numpy as np\n",
    "ra=Angle(129.729,u.deg)\n",
    "dec=Angle(19.1983,u.deg)\n",
    "sigra=np.cos(19.1983/360.*2.*3.141)\n",
    "print(129.729*sigra)\n",
    "ucac=FK5(ra,dec)\n",
    "print(ucac)\n",
    "ucac.transform_to(ICRS)\n"
   ]
  },
  {
   "cell_type": "code",
   "execution_count": null,
   "metadata": {
    "collapsed": true
   },
   "outputs": [],
   "source": []
  }
 ],
 "metadata": {
  "kernelspec": {
   "display_name": "VPython",
   "language": "python",
   "name": "vpython"
  },
  "language_info": {
   "codemirror_mode": {
    "name": "ipython",
    "version": 2
   },
   "file_extension": ".py",
   "mimetype": "text/x-python",
   "name": "python",
   "nbconvert_exporter": "python",
   "pygments_lexer": "ipython2",
   "version": "2.7.12"
  }
 },
 "nbformat": 4,
 "nbformat_minor": 2
}
