{
 "cells": [
  {
   "cell_type": "code",
   "execution_count": null,
   "metadata": {},
   "outputs": [],
   "source": [
    "import pandas as pd\n",
    "cluster = ['Pleiades','NGC_1647','M44','M67']\n",
    "for c in cluster:\n",
    "    df = pd.read_csv('/home/ekaterina/Documents/appaloosa/stars_shortlist/{0}/{0}_Sampedro_EPIC.csv'.format(c),\n",
    "                    usecols=['id'])\n",
    "    with open('/home/ekaterina/Documents/appaloosa/stars_shortlist/{0}/{0}_newmatch.txt'.format(c),'w') as f:\n",
    "        f.write(\"\\n\".join(df.id.astype('str').tolist()))"
   ]
  }
 ],
 "metadata": {
  "kernelspec": {
   "display_name": "Python 3",
   "language": "python",
   "name": "python3"
  },
  "language_info": {
   "codemirror_mode": {
    "name": "ipython",
    "version": 3
   },
   "file_extension": ".py",
   "mimetype": "text/x-python",
   "name": "python",
   "nbconvert_exporter": "python",
   "pygments_lexer": "ipython3",
   "version": "3.5.2"
  }
 },
 "nbformat": 4,
 "nbformat_minor": 2
}
